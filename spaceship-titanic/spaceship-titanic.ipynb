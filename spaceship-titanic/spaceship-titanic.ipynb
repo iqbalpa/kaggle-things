{
 "cells": [
  {
   "cell_type": "code",
   "execution_count": 1,
   "id": "51e3f4f1",
   "metadata": {
    "collapsed": true,
    "execution": {
     "iopub.execute_input": "2023-07-22T02:42:06.821712Z",
     "iopub.status.busy": "2023-07-22T02:42:06.820853Z",
     "iopub.status.idle": "2023-07-22T02:43:01.642576Z",
     "shell.execute_reply": "2023-07-22T02:43:01.641243Z"
    },
    "jupyter": {
     "outputs_hidden": true
    },
    "papermill": {
     "duration": 54.847911,
     "end_time": "2023-07-22T02:43:01.645531",
     "exception": false,
     "start_time": "2023-07-22T02:42:06.797620",
     "status": "completed"
    },
    "tags": []
   },
   "outputs": [
    {
     "name": "stdout",
     "output_type": "stream",
     "text": [
      "Requirement already satisfied: optuna in /opt/conda/lib/python3.7/site-packages (3.1.0)\r\n",
      "Requirement already satisfied: PyYAML in /opt/conda/lib/python3.7/site-packages (from optuna) (6.0)\r\n",
      "Requirement already satisfied: sqlalchemy>=1.3.0 in /opt/conda/lib/python3.7/site-packages (from optuna) (1.4.46)\r\n",
      "Requirement already satisfied: numpy in /opt/conda/lib/python3.7/site-packages (from optuna) (1.21.6)\r\n",
      "Requirement already satisfied: packaging>=20.0 in /opt/conda/lib/python3.7/site-packages (from optuna) (23.0)\r\n",
      "Requirement already satisfied: alembic>=1.5.0 in /opt/conda/lib/python3.7/site-packages (from optuna) (1.9.4)\r\n",
      "Requirement already satisfied: tqdm in /opt/conda/lib/python3.7/site-packages (from optuna) (4.64.1)\r\n",
      "Requirement already satisfied: cmaes>=0.9.1 in /opt/conda/lib/python3.7/site-packages (from optuna) (0.9.1)\r\n",
      "Requirement already satisfied: colorlog in /opt/conda/lib/python3.7/site-packages (from optuna) (6.7.0)\r\n",
      "Requirement already satisfied: importlib-metadata in /opt/conda/lib/python3.7/site-packages (from alembic>=1.5.0->optuna) (4.11.4)\r\n",
      "Requirement already satisfied: importlib-resources in /opt/conda/lib/python3.7/site-packages (from alembic>=1.5.0->optuna) (5.10.2)\r\n",
      "Requirement already satisfied: Mako in /opt/conda/lib/python3.7/site-packages (from alembic>=1.5.0->optuna) (1.2.4)\r\n",
      "Requirement already satisfied: greenlet!=0.4.17 in /opt/conda/lib/python3.7/site-packages (from sqlalchemy>=1.3.0->optuna) (2.0.1)\r\n",
      "Requirement already satisfied: typing-extensions>=3.6.4 in /opt/conda/lib/python3.7/site-packages (from importlib-metadata->alembic>=1.5.0->optuna) (4.4.0)\r\n",
      "Requirement already satisfied: zipp>=0.5 in /opt/conda/lib/python3.7/site-packages (from importlib-metadata->alembic>=1.5.0->optuna) (3.11.0)\r\n",
      "Requirement already satisfied: MarkupSafe>=0.9.2 in /opt/conda/lib/python3.7/site-packages (from Mako->alembic>=1.5.0->optuna) (2.1.1)\r\n",
      "\u001b[33mWARNING: Running pip as the 'root' user can result in broken permissions and conflicting behaviour with the system package manager. It is recommended to use a virtual environment instead: https://pip.pypa.io/warnings/venv\u001b[0m\u001b[33m\r\n",
      "\u001b[0mRequirement already satisfied: catboost in /opt/conda/lib/python3.7/site-packages (1.1.1)\r\n",
      "Requirement already satisfied: matplotlib in /opt/conda/lib/python3.7/site-packages (from catboost) (3.5.3)\r\n",
      "Requirement already satisfied: six in /opt/conda/lib/python3.7/site-packages (from catboost) (1.16.0)\r\n",
      "Requirement already satisfied: scipy in /opt/conda/lib/python3.7/site-packages (from catboost) (1.7.3)\r\n",
      "Requirement already satisfied: graphviz in /opt/conda/lib/python3.7/site-packages (from catboost) (0.8.4)\r\n",
      "Requirement already satisfied: plotly in /opt/conda/lib/python3.7/site-packages (from catboost) (5.13.0)\r\n",
      "Requirement already satisfied: pandas>=0.24.0 in /opt/conda/lib/python3.7/site-packages (from catboost) (1.3.5)\r\n",
      "Requirement already satisfied: numpy>=1.16.0 in /opt/conda/lib/python3.7/site-packages (from catboost) (1.21.6)\r\n",
      "Requirement already satisfied: python-dateutil>=2.7.3 in /opt/conda/lib/python3.7/site-packages (from pandas>=0.24.0->catboost) (2.8.2)\r\n",
      "Requirement already satisfied: pytz>=2017.3 in /opt/conda/lib/python3.7/site-packages (from pandas>=0.24.0->catboost) (2022.7.1)\r\n",
      "Requirement already satisfied: pyparsing>=2.2.1 in /opt/conda/lib/python3.7/site-packages (from matplotlib->catboost) (3.0.9)\r\n",
      "Requirement already satisfied: kiwisolver>=1.0.1 in /opt/conda/lib/python3.7/site-packages (from matplotlib->catboost) (1.4.4)\r\n",
      "Requirement already satisfied: pillow>=6.2.0 in /opt/conda/lib/python3.7/site-packages (from matplotlib->catboost) (9.4.0)\r\n",
      "Requirement already satisfied: fonttools>=4.22.0 in /opt/conda/lib/python3.7/site-packages (from matplotlib->catboost) (4.38.0)\r\n",
      "Requirement already satisfied: cycler>=0.10 in /opt/conda/lib/python3.7/site-packages (from matplotlib->catboost) (0.11.0)\r\n",
      "Requirement already satisfied: packaging>=20.0 in /opt/conda/lib/python3.7/site-packages (from matplotlib->catboost) (23.0)\r\n",
      "Requirement already satisfied: tenacity>=6.2.0 in /opt/conda/lib/python3.7/site-packages (from plotly->catboost) (8.1.0)\r\n",
      "Requirement already satisfied: typing-extensions in /opt/conda/lib/python3.7/site-packages (from kiwisolver>=1.0.1->matplotlib->catboost) (4.4.0)\r\n",
      "\u001b[33mWARNING: Running pip as the 'root' user can result in broken permissions and conflicting behaviour with the system package manager. It is recommended to use a virtual environment instead: https://pip.pypa.io/warnings/venv\u001b[0m\u001b[33m\r\n",
      "\u001b[0mCollecting pycaret\r\n",
      "  Downloading pycaret-3.0.4-py3-none-any.whl (484 kB)\r\n",
      "\u001b[2K     \u001b[90m━━━━━━━━━━━━━━━━━━━━━━━━━━━━━━━━━━━━━━\u001b[0m \u001b[32m484.4/484.4 kB\u001b[0m \u001b[31m24.7 MB/s\u001b[0m eta \u001b[36m0:00:00\u001b[0m\r\n",
      "\u001b[?25hRequirement already satisfied: numba>=0.55.0 in /opt/conda/lib/python3.7/site-packages (from pycaret) (0.56.4)\r\n",
      "Collecting schemdraw==0.15\r\n",
      "  Downloading schemdraw-0.15-py3-none-any.whl (106 kB)\r\n",
      "\u001b[2K     \u001b[90m━━━━━━━━━━━━━━━━━━━━━━━━━━━━━━━━━━━━━━\u001b[0m \u001b[32m106.8/106.8 kB\u001b[0m \u001b[31m11.6 MB/s\u001b[0m eta \u001b[36m0:00:00\u001b[0m\r\n",
      "\u001b[?25hRequirement already satisfied: numpy<1.24,>=1.21 in /opt/conda/lib/python3.7/site-packages (from pycaret) (1.21.6)\r\n",
      "Requirement already satisfied: plotly>=5.0.0 in /opt/conda/lib/python3.7/site-packages (from pycaret) (5.13.0)\r\n",
      "Requirement already satisfied: scikit-learn<1.3.0,>=1.0 in /opt/conda/lib/python3.7/site-packages (from pycaret) (1.0.2)\r\n",
      "Requirement already satisfied: scipy<2.0.0 in /opt/conda/lib/python3.7/site-packages (from pycaret) (1.7.3)\r\n",
      "Requirement already satisfied: scikit-plot>=0.3.7 in /opt/conda/lib/python3.7/site-packages (from pycaret) (0.3.7)\r\n",
      "Requirement already satisfied: imbalanced-learn>=0.8.1 in /opt/conda/lib/python3.7/site-packages (from pycaret) (0.10.1)\r\n",
      "Collecting tbats>=1.1.3\r\n",
      "  Downloading tbats-1.1.3-py3-none-any.whl (44 kB)\r\n",
      "\u001b[2K     \u001b[90m━━━━━━━━━━━━━━━━━━━━━━━━━━━━━━━━━━━━━━━━\u001b[0m \u001b[32m44.0/44.0 kB\u001b[0m \u001b[31m4.8 MB/s\u001b[0m eta \u001b[36m0:00:00\u001b[0m\r\n",
      "\u001b[?25hCollecting plotly-resampler>=0.8.3.1\r\n",
      "  Downloading plotly_resampler-0.9.1-py3-none-any.whl (73 kB)\r\n",
      "\u001b[2K     \u001b[90m━━━━━━━━━━━━━━━━━━━━━━━━━━━━━━━━━━━━━━━━\u001b[0m \u001b[32m73.4/73.4 kB\u001b[0m \u001b[31m8.1 MB/s\u001b[0m eta \u001b[36m0:00:00\u001b[0m\r\n",
      "\u001b[?25hCollecting kaleido>=0.2.1\r\n",
      "  Downloading kaleido-0.2.1-py2.py3-none-manylinux1_x86_64.whl (79.9 MB)\r\n",
      "\u001b[2K     \u001b[90m━━━━━━━━━━━━━━━━━━━━━━━━━━━━━━━━━━━━━━━━\u001b[0m \u001b[32m79.9/79.9 MB\u001b[0m \u001b[31m14.6 MB/s\u001b[0m eta \u001b[36m0:00:00\u001b[0m\r\n",
      "\u001b[?25hRequirement already satisfied: pandas<2.0.0,>=1.3.0 in /opt/conda/lib/python3.7/site-packages (from pycaret) (1.3.5)\r\n",
      "Requirement already satisfied: cloudpickle in /opt/conda/lib/python3.7/site-packages (from pycaret) (2.2.1)\r\n",
      "Requirement already satisfied: category-encoders>=2.4.0 in /opt/conda/lib/python3.7/site-packages (from pycaret) (2.6.0)\r\n",
      "Collecting pmdarima!=1.8.1,<3.0.0,>=1.8.0\r\n",
      "  Downloading pmdarima-2.0.3-cp37-cp37m-manylinux_2_17_x86_64.manylinux2014_x86_64.manylinux_2_28_x86_64.whl (1.8 MB)\r\n",
      "\u001b[2K     \u001b[90m━━━━━━━━━━━━━━━━━━━━━━━━━━━━━━━━━━━━━━━━\u001b[0m \u001b[32m1.8/1.8 MB\u001b[0m \u001b[31m47.2 MB/s\u001b[0m eta \u001b[36m0:00:00\u001b[0m\r\n",
      "\u001b[?25hCollecting sktime!=0.17.1,!=0.17.2,!=0.18.0,>=0.16.1\r\n",
      "  Downloading sktime-0.19.2-py3-none-any.whl (17.0 MB)\r\n",
      "\u001b[2K     \u001b[90m━━━━━━━━━━━━━━━━━━━━━━━━━━━━━━━━━━━━━━━━\u001b[0m \u001b[32m17.0/17.0 MB\u001b[0m \u001b[31m16.3 MB/s\u001b[0m eta \u001b[36m0:00:00\u001b[0m\r\n",
      "\u001b[?25hRequirement already satisfied: joblib>=1.2.0 in /opt/conda/lib/python3.7/site-packages (from pycaret) (1.2.0)\r\n",
      "Requirement already satisfied: xxhash in /opt/conda/lib/python3.7/site-packages (from pycaret) (3.2.0)\r\n",
      "Requirement already satisfied: ipywidgets>=7.6.5 in /opt/conda/lib/python3.7/site-packages (from pycaret) (7.7.1)\r\n",
      "Collecting pickle5\r\n",
      "  Downloading pickle5-0.0.12-cp37-cp37m-manylinux_2_5_x86_64.manylinux1_x86_64.whl (256 kB)\r\n",
      "\u001b[2K     \u001b[90m━━━━━━━━━━━━━━━━━━━━━━━━━━━━━━━━━━━━━━\u001b[0m \u001b[32m256.4/256.4 kB\u001b[0m \u001b[31m24.6 MB/s\u001b[0m eta \u001b[36m0:00:00\u001b[0m\r\n",
      "\u001b[?25hRequirement already satisfied: yellowbrick>=1.4 in /opt/conda/lib/python3.7/site-packages (from pycaret) (1.5)\r\n",
      "Requirement already satisfied: lightgbm>=3.0.0 in /opt/conda/lib/python3.7/site-packages (from pycaret) (3.3.2)\r\n",
      "Requirement already satisfied: requests>=2.27.1 in /opt/conda/lib/python3.7/site-packages (from pycaret) (2.28.2)\r\n",
      "Requirement already satisfied: deprecation>=2.1.0 in /opt/conda/lib/python3.7/site-packages (from pycaret) (2.1.0)\r\n",
      "Requirement already satisfied: markupsafe>=2.0.1 in /opt/conda/lib/python3.7/site-packages (from pycaret) (2.1.1)\r\n",
      "Collecting importlib-metadata>=4.12.0\r\n",
      "  Downloading importlib_metadata-6.7.0-py3-none-any.whl (22 kB)\r\n",
      "Requirement already satisfied: statsmodels>=0.12.1 in /opt/conda/lib/python3.7/site-packages (from pycaret) (0.13.5)\r\n",
      "Requirement already satisfied: wurlitzer in /opt/conda/lib/python3.7/site-packages (from pycaret) (3.0.3)\r\n",
      "Collecting pyod>=1.0.8\r\n",
      "  Downloading pyod-1.1.0.tar.gz (153 kB)\r\n",
      "\u001b[2K     \u001b[90m━━━━━━━━━━━━━━━━━━━━━━━━━━━━━━━━━━━━━━\u001b[0m \u001b[32m153.4/153.4 kB\u001b[0m \u001b[31m16.5 MB/s\u001b[0m eta \u001b[36m0:00:00\u001b[0m\r\n",
      "\u001b[?25h  Preparing metadata (setup.py) ... \u001b[?25l-\b \bdone\r\n",
      "\u001b[?25hRequirement already satisfied: matplotlib>=3.3.0 in /opt/conda/lib/python3.7/site-packages (from pycaret) (3.5.3)\r\n",
      "Requirement already satisfied: ipython>=5.5.0 in /opt/conda/lib/python3.7/site-packages (from pycaret) (7.34.0)\r\n",
      "Requirement already satisfied: nbformat>=4.2.0 in /opt/conda/lib/python3.7/site-packages (from pycaret) (5.7.3)\r\n",
      "Requirement already satisfied: jinja2>=1.2 in /opt/conda/lib/python3.7/site-packages (from pycaret) (3.1.2)\r\n",
      "Requirement already satisfied: tqdm>=4.62.0 in /opt/conda/lib/python3.7/site-packages (from pycaret) (4.64.1)\r\n",
      "Requirement already satisfied: psutil>=5.9.0 in /opt/conda/lib/python3.7/site-packages (from pycaret) (5.9.3)\r\n",
      "Requirement already satisfied: typing-extensions in /opt/conda/lib/python3.7/site-packages (from schemdraw==0.15->pycaret) (4.4.0)\r\n",
      "Requirement already satisfied: patsy>=0.5.1 in /opt/conda/lib/python3.7/site-packages (from category-encoders>=2.4.0->pycaret) (0.5.3)\r\n",
      "Requirement already satisfied: packaging in /opt/conda/lib/python3.7/site-packages (from deprecation>=2.1.0->pycaret) (23.0)\r\n",
      "Requirement already satisfied: threadpoolctl>=2.0.0 in /opt/conda/lib/python3.7/site-packages (from imbalanced-learn>=0.8.1->pycaret) (3.1.0)\r\n",
      "Requirement already satisfied: zipp>=0.5 in /opt/conda/lib/python3.7/site-packages (from importlib-metadata>=4.12.0->pycaret) (3.11.0)\r\n",
      "Requirement already satisfied: traitlets>=4.2 in /opt/conda/lib/python3.7/site-packages (from ipython>=5.5.0->pycaret) (5.8.1)\r\n",
      "Requirement already satisfied: backcall in /opt/conda/lib/python3.7/site-packages (from ipython>=5.5.0->pycaret) (0.2.0)\r\n",
      "Requirement already satisfied: prompt-toolkit!=3.0.0,!=3.0.1,<3.1.0,>=2.0.0 in /opt/conda/lib/python3.7/site-packages (from ipython>=5.5.0->pycaret) (3.0.36)\r\n",
      "Requirement already satisfied: matplotlib-inline in /opt/conda/lib/python3.7/site-packages (from ipython>=5.5.0->pycaret) (0.1.6)\r\n",
      "Requirement already satisfied: decorator in /opt/conda/lib/python3.7/site-packages (from ipython>=5.5.0->pycaret) (5.1.1)\r\n",
      "Requirement already satisfied: jedi>=0.16 in /opt/conda/lib/python3.7/site-packages (from ipython>=5.5.0->pycaret) (0.18.2)\r\n",
      "Requirement already satisfied: setuptools>=18.5 in /opt/conda/lib/python3.7/site-packages (from ipython>=5.5.0->pycaret) (59.8.0)\r\n",
      "Requirement already satisfied: pickleshare in /opt/conda/lib/python3.7/site-packages (from ipython>=5.5.0->pycaret) (0.7.5)\r\n",
      "Requirement already satisfied: pexpect>4.3 in /opt/conda/lib/python3.7/site-packages (from ipython>=5.5.0->pycaret) (4.8.0)\r\n",
      "Requirement already satisfied: pygments in /opt/conda/lib/python3.7/site-packages (from ipython>=5.5.0->pycaret) (2.14.0)\r\n",
      "Requirement already satisfied: ipykernel>=4.5.1 in /opt/conda/lib/python3.7/site-packages (from ipywidgets>=7.6.5->pycaret) (6.16.2)\r\n",
      "Requirement already satisfied: ipython-genutils~=0.2.0 in /opt/conda/lib/python3.7/site-packages (from ipywidgets>=7.6.5->pycaret) (0.2.0)\r\n",
      "Requirement already satisfied: widgetsnbextension~=3.6.0 in /opt/conda/lib/python3.7/site-packages (from ipywidgets>=7.6.5->pycaret) (3.6.2)\r\n",
      "Requirement already satisfied: jupyterlab-widgets>=1.0.0 in /opt/conda/lib/python3.7/site-packages (from ipywidgets>=7.6.5->pycaret) (3.0.5)\r\n",
      "Requirement already satisfied: wheel in /opt/conda/lib/python3.7/site-packages (from lightgbm>=3.0.0->pycaret) (0.38.4)\r\n",
      "Requirement already satisfied: python-dateutil>=2.7 in /opt/conda/lib/python3.7/site-packages (from matplotlib>=3.3.0->pycaret) (2.8.2)\r\n",
      "Requirement already satisfied: pillow>=6.2.0 in /opt/conda/lib/python3.7/site-packages (from matplotlib>=3.3.0->pycaret) (9.4.0)\r\n",
      "Requirement already satisfied: cycler>=0.10 in /opt/conda/lib/python3.7/site-packages (from matplotlib>=3.3.0->pycaret) (0.11.0)\r\n",
      "Requirement already satisfied: pyparsing>=2.2.1 in /opt/conda/lib/python3.7/site-packages (from matplotlib>=3.3.0->pycaret) (3.0.9)\r\n",
      "Requirement already satisfied: fonttools>=4.22.0 in /opt/conda/lib/python3.7/site-packages (from matplotlib>=3.3.0->pycaret) (4.38.0)\r\n",
      "Requirement already satisfied: kiwisolver>=1.0.1 in /opt/conda/lib/python3.7/site-packages (from matplotlib>=3.3.0->pycaret) (1.4.4)\r\n",
      "Requirement already satisfied: jsonschema>=2.6 in /opt/conda/lib/python3.7/site-packages (from nbformat>=4.2.0->pycaret) (4.17.3)\r\n",
      "Requirement already satisfied: jupyter-core in /opt/conda/lib/python3.7/site-packages (from nbformat>=4.2.0->pycaret) (4.12.0)\r\n",
      "Requirement already satisfied: fastjsonschema in /opt/conda/lib/python3.7/site-packages (from nbformat>=4.2.0->pycaret) (2.16.2)\r\n",
      "Requirement already satisfied: llvmlite<0.40,>=0.39.0dev0 in /opt/conda/lib/python3.7/site-packages (from numba>=0.55.0->pycaret) (0.39.1)\r\n",
      "Requirement already satisfied: pytz>=2017.3 in /opt/conda/lib/python3.7/site-packages (from pandas<2.0.0,>=1.3.0->pycaret) (2022.7.1)\r\n",
      "Requirement already satisfied: tenacity>=6.2.0 in /opt/conda/lib/python3.7/site-packages (from plotly>=5.0.0->pycaret) (8.1.0)\r\n",
      "Requirement already satisfied: orjson<4.0.0,>=3.8.0 in /opt/conda/lib/python3.7/site-packages (from plotly-resampler>=0.8.3.1->pycaret) (3.8.5)\r\n",
      "Collecting dash<3.0.0,>=2.11.0\r\n",
      "  Downloading dash-2.11.1-py3-none-any.whl (10.4 MB)\r\n",
      "\u001b[2K     \u001b[90m━━━━━━━━━━━━━━━━━━━━━━━━━━━━━━━━━━━━━━━━\u001b[0m \u001b[32m10.4/10.4 MB\u001b[0m \u001b[31m78.5 MB/s\u001b[0m eta \u001b[36m0:00:00\u001b[0m\r\n",
      "\u001b[?25hCollecting tsdownsample==0.1.2\r\n",
      "  Downloading tsdownsample-0.1.2-cp37-cp37m-manylinux_2_17_x86_64.manylinux2014_x86_64.whl (2.3 MB)\r\n",
      "\u001b[2K     \u001b[90m━━━━━━━━━━━━━━━━━━━━━━━━━━━━━━━━━━━━━━━━\u001b[0m \u001b[32m2.3/2.3 MB\u001b[0m \u001b[31m78.3 MB/s\u001b[0m eta \u001b[36m0:00:00\u001b[0m\r\n",
      "\u001b[?25hCollecting trace-updater>=0.0.8\r\n",
      "  Downloading trace_updater-0.0.9.1-py3-none-any.whl (185 kB)\r\n",
      "\u001b[2K     \u001b[90m━━━━━━━━━━━━━━━━━━━━━━━━━━━━━━━━━━━━━━\u001b[0m \u001b[32m185.2/185.2 kB\u001b[0m \u001b[31m20.4 MB/s\u001b[0m eta \u001b[36m0:00:00\u001b[0m\r\n",
      "\u001b[?25hRequirement already satisfied: Cython!=0.29.18,!=0.29.31,>=0.29 in /opt/conda/lib/python3.7/site-packages (from pmdarima!=1.8.1,<3.0.0,>=1.8.0->pycaret) (0.29.33)\r\n",
      "Requirement already satisfied: urllib3 in /opt/conda/lib/python3.7/site-packages (from pmdarima!=1.8.1,<3.0.0,>=1.8.0->pycaret) (1.26.14)\r\n",
      "Requirement already satisfied: six in /opt/conda/lib/python3.7/site-packages (from pyod>=1.0.8->pycaret) (1.16.0)\r\n",
      "Requirement already satisfied: certifi>=2017.4.17 in /opt/conda/lib/python3.7/site-packages (from requests>=2.27.1->pycaret) (2022.12.7)\r\n",
      "Requirement already satisfied: idna<4,>=2.5 in /opt/conda/lib/python3.7/site-packages (from requests>=2.27.1->pycaret) (3.4)\r\n",
      "Requirement already satisfied: charset-normalizer<4,>=2 in /opt/conda/lib/python3.7/site-packages (from requests>=2.27.1->pycaret) (2.1.1)\r\n",
      "Collecting deprecated>=1.2.13\r\n",
      "  Downloading Deprecated-1.2.14-py2.py3-none-any.whl (9.6 kB)\r\n",
      "Collecting scikit-base<0.5.0\r\n",
      "  Downloading scikit_base-0.4.6-py3-none-any.whl (119 kB)\r\n",
      "\u001b[2K     \u001b[90m━━━━━━━━━━━━━━━━━━━━━━━━━━━━━━━━━━━━━━\u001b[0m \u001b[32m119.1/119.1 kB\u001b[0m \u001b[31m12.9 MB/s\u001b[0m eta \u001b[36m0:00:00\u001b[0m\r\n",
      "\u001b[?25hCollecting dash-table==5.0.0\r\n",
      "  Downloading dash_table-5.0.0-py3-none-any.whl (3.9 kB)\r\n",
      "Collecting dash-html-components==2.0.0\r\n",
      "  Downloading dash_html_components-2.0.0-py3-none-any.whl (4.1 kB)\r\n",
      "Collecting ansi2html\r\n",
      "  Downloading ansi2html-1.8.0-py3-none-any.whl (16 kB)\r\n",
      "Collecting dash-core-components==2.0.0\r\n",
      "  Downloading dash_core_components-2.0.0-py3-none-any.whl (3.8 kB)\r\n",
      "Requirement already satisfied: Werkzeug<2.3.0 in /opt/conda/lib/python3.7/site-packages (from dash<3.0.0,>=2.11.0->plotly-resampler>=0.8.3.1->pycaret) (2.2.3)\r\n",
      "Requirement already satisfied: nest-asyncio in /opt/conda/lib/python3.7/site-packages (from dash<3.0.0,>=2.11.0->plotly-resampler>=0.8.3.1->pycaret) (1.5.6)\r\n",
      "Requirement already satisfied: Flask<2.3.0,>=1.0.4 in /opt/conda/lib/python3.7/site-packages (from dash<3.0.0,>=2.11.0->plotly-resampler>=0.8.3.1->pycaret) (2.2.3)\r\n",
      "Requirement already satisfied: retrying in /opt/conda/lib/python3.7/site-packages (from dash<3.0.0,>=2.11.0->plotly-resampler>=0.8.3.1->pycaret) (1.3.4)\r\n",
      "Requirement already satisfied: wrapt<2,>=1.10 in /opt/conda/lib/python3.7/site-packages (from deprecated>=1.2.13->sktime!=0.17.1,!=0.17.2,!=0.18.0,>=0.16.1->pycaret) (1.14.1)\r\n",
      "Requirement already satisfied: pyzmq>=17 in /opt/conda/lib/python3.7/site-packages (from ipykernel>=4.5.1->ipywidgets>=7.6.5->pycaret) (25.0.0)\r\n",
      "Requirement already satisfied: jupyter-client>=6.1.12 in /opt/conda/lib/python3.7/site-packages (from ipykernel>=4.5.1->ipywidgets>=7.6.5->pycaret) (7.3.4)\r\n",
      "Requirement already satisfied: tornado>=6.1 in /opt/conda/lib/python3.7/site-packages (from ipykernel>=4.5.1->ipywidgets>=7.6.5->pycaret) (6.1)\r\n",
      "Requirement already satisfied: debugpy>=1.0 in /opt/conda/lib/python3.7/site-packages (from ipykernel>=4.5.1->ipywidgets>=7.6.5->pycaret) (1.6.6)\r\n",
      "Requirement already satisfied: parso<0.9.0,>=0.8.0 in /opt/conda/lib/python3.7/site-packages (from jedi>=0.16->ipython>=5.5.0->pycaret) (0.8.3)\r\n",
      "Requirement already satisfied: attrs>=17.4.0 in /opt/conda/lib/python3.7/site-packages (from jsonschema>=2.6->nbformat>=4.2.0->pycaret) (22.2.0)\r\n",
      "Requirement already satisfied: pkgutil-resolve-name>=1.3.10 in /opt/conda/lib/python3.7/site-packages (from jsonschema>=2.6->nbformat>=4.2.0->pycaret) (1.3.10)\r\n",
      "Requirement already satisfied: importlib-resources>=1.4.0 in /opt/conda/lib/python3.7/site-packages (from jsonschema>=2.6->nbformat>=4.2.0->pycaret) (5.10.2)\r\n",
      "Requirement already satisfied: pyrsistent!=0.17.0,!=0.17.1,!=0.17.2,>=0.14.0 in /opt/conda/lib/python3.7/site-packages (from jsonschema>=2.6->nbformat>=4.2.0->pycaret) (0.19.3)\r\n",
      "Requirement already satisfied: ptyprocess>=0.5 in /opt/conda/lib/python3.7/site-packages (from pexpect>4.3->ipython>=5.5.0->pycaret) (0.7.0)\r\n",
      "Requirement already satisfied: wcwidth in /opt/conda/lib/python3.7/site-packages (from prompt-toolkit!=3.0.0,!=3.0.1,<3.1.0,>=2.0.0->ipython>=5.5.0->pycaret) (0.2.6)\r\n",
      "Requirement already satisfied: notebook>=4.4.1 in /opt/conda/lib/python3.7/site-packages (from widgetsnbextension~=3.6.0->ipywidgets>=7.6.5->pycaret) (6.5.2)\r\n",
      "Requirement already satisfied: itsdangerous>=2.0 in /opt/conda/lib/python3.7/site-packages (from Flask<2.3.0,>=1.0.4->dash<3.0.0,>=2.11.0->plotly-resampler>=0.8.3.1->pycaret) (2.1.2)\r\n",
      "Requirement already satisfied: click>=8.0 in /opt/conda/lib/python3.7/site-packages (from Flask<2.3.0,>=1.0.4->dash<3.0.0,>=2.11.0->plotly-resampler>=0.8.3.1->pycaret) (8.1.3)\r\n",
      "Requirement already satisfied: entrypoints in /opt/conda/lib/python3.7/site-packages (from jupyter-client>=6.1.12->ipykernel>=4.5.1->ipywidgets>=7.6.5->pycaret) (0.4)\r\n",
      "Requirement already satisfied: terminado>=0.8.3 in /opt/conda/lib/python3.7/site-packages (from notebook>=4.4.1->widgetsnbextension~=3.6.0->ipywidgets>=7.6.5->pycaret) (0.17.1)\r\n",
      "Requirement already satisfied: Send2Trash>=1.8.0 in /opt/conda/lib/python3.7/site-packages (from notebook>=4.4.1->widgetsnbextension~=3.6.0->ipywidgets>=7.6.5->pycaret) (1.8.0)\r\n",
      "Requirement already satisfied: nbclassic>=0.4.7 in /opt/conda/lib/python3.7/site-packages (from notebook>=4.4.1->widgetsnbextension~=3.6.0->ipywidgets>=7.6.5->pycaret) (0.4.8)\r\n",
      "Requirement already satisfied: prometheus-client in /opt/conda/lib/python3.7/site-packages (from notebook>=4.4.1->widgetsnbextension~=3.6.0->ipywidgets>=7.6.5->pycaret) (0.15.0)\r\n",
      "Requirement already satisfied: argon2-cffi in /opt/conda/lib/python3.7/site-packages (from notebook>=4.4.1->widgetsnbextension~=3.6.0->ipywidgets>=7.6.5->pycaret) (21.3.0)\r\n",
      "Requirement already satisfied: nbconvert>=5 in /opt/conda/lib/python3.7/site-packages (from notebook>=4.4.1->widgetsnbextension~=3.6.0->ipywidgets>=7.6.5->pycaret) (7.2.8)\r\n",
      "Requirement already satisfied: jupyter-server>=1.8 in /opt/conda/lib/python3.7/site-packages (from nbclassic>=0.4.7->notebook>=4.4.1->widgetsnbextension~=3.6.0->ipywidgets>=7.6.5->pycaret) (1.23.5)\r\n",
      "Requirement already satisfied: notebook-shim>=0.1.0 in /opt/conda/lib/python3.7/site-packages (from nbclassic>=0.4.7->notebook>=4.4.1->widgetsnbextension~=3.6.0->ipywidgets>=7.6.5->pycaret) (0.2.2)\r\n",
      "Requirement already satisfied: bleach in /opt/conda/lib/python3.7/site-packages (from nbconvert>=5->notebook>=4.4.1->widgetsnbextension~=3.6.0->ipywidgets>=7.6.5->pycaret) (6.0.0)\r\n",
      "Requirement already satisfied: defusedxml in /opt/conda/lib/python3.7/site-packages (from nbconvert>=5->notebook>=4.4.1->widgetsnbextension~=3.6.0->ipywidgets>=7.6.5->pycaret) (0.7.1)\r\n",
      "Requirement already satisfied: jupyterlab-pygments in /opt/conda/lib/python3.7/site-packages (from nbconvert>=5->notebook>=4.4.1->widgetsnbextension~=3.6.0->ipywidgets>=7.6.5->pycaret) (0.2.2)\r\n",
      "Requirement already satisfied: beautifulsoup4 in /opt/conda/lib/python3.7/site-packages (from nbconvert>=5->notebook>=4.4.1->widgetsnbextension~=3.6.0->ipywidgets>=7.6.5->pycaret) (4.11.1)\r\n",
      "Requirement already satisfied: pandocfilters>=1.4.1 in /opt/conda/lib/python3.7/site-packages (from nbconvert>=5->notebook>=4.4.1->widgetsnbextension~=3.6.0->ipywidgets>=7.6.5->pycaret) (1.5.0)\r\n",
      "Requirement already satisfied: mistune<3,>=2.0.3 in /opt/conda/lib/python3.7/site-packages (from nbconvert>=5->notebook>=4.4.1->widgetsnbextension~=3.6.0->ipywidgets>=7.6.5->pycaret) (2.0.4)\r\n",
      "Requirement already satisfied: tinycss2 in /opt/conda/lib/python3.7/site-packages (from nbconvert>=5->notebook>=4.4.1->widgetsnbextension~=3.6.0->ipywidgets>=7.6.5->pycaret) (1.2.1)\r\n",
      "Requirement already satisfied: nbclient>=0.5.0 in /opt/conda/lib/python3.7/site-packages (from nbconvert>=5->notebook>=4.4.1->widgetsnbextension~=3.6.0->ipywidgets>=7.6.5->pycaret) (0.7.2)\r\n",
      "Requirement already satisfied: argon2-cffi-bindings in /opt/conda/lib/python3.7/site-packages (from argon2-cffi->notebook>=4.4.1->widgetsnbextension~=3.6.0->ipywidgets>=7.6.5->pycaret) (21.2.0)\r\n",
      "Requirement already satisfied: anyio<4,>=3.1.0 in /opt/conda/lib/python3.7/site-packages (from jupyter-server>=1.8->nbclassic>=0.4.7->notebook>=4.4.1->widgetsnbextension~=3.6.0->ipywidgets>=7.6.5->pycaret) (3.6.2)\r\n",
      "Requirement already satisfied: websocket-client in /opt/conda/lib/python3.7/site-packages (from jupyter-server>=1.8->nbclassic>=0.4.7->notebook>=4.4.1->widgetsnbextension~=3.6.0->ipywidgets>=7.6.5->pycaret) (1.4.2)\r\n",
      "Requirement already satisfied: cffi>=1.0.1 in /opt/conda/lib/python3.7/site-packages (from argon2-cffi-bindings->argon2-cffi->notebook>=4.4.1->widgetsnbextension~=3.6.0->ipywidgets>=7.6.5->pycaret) (1.15.1)\r\n",
      "Requirement already satisfied: soupsieve>1.2 in /opt/conda/lib/python3.7/site-packages (from beautifulsoup4->nbconvert>=5->notebook>=4.4.1->widgetsnbextension~=3.6.0->ipywidgets>=7.6.5->pycaret) (2.3.2.post1)\r\n",
      "Requirement already satisfied: webencodings in /opt/conda/lib/python3.7/site-packages (from bleach->nbconvert>=5->notebook>=4.4.1->widgetsnbextension~=3.6.0->ipywidgets>=7.6.5->pycaret) (0.5.1)\r\n",
      "Requirement already satisfied: sniffio>=1.1 in /opt/conda/lib/python3.7/site-packages (from anyio<4,>=3.1.0->jupyter-server>=1.8->nbclassic>=0.4.7->notebook>=4.4.1->widgetsnbextension~=3.6.0->ipywidgets>=7.6.5->pycaret) (1.3.0)\r\n",
      "Requirement already satisfied: pycparser in /opt/conda/lib/python3.7/site-packages (from cffi>=1.0.1->argon2-cffi-bindings->argon2-cffi->notebook>=4.4.1->widgetsnbextension~=3.6.0->ipywidgets>=7.6.5->pycaret) (2.21)\r\n",
      "Building wheels for collected packages: pyod\r\n",
      "  Building wheel for pyod (setup.py) ... \u001b[?25l-\b \b\\\b \bdone\r\n",
      "\u001b[?25h  Created wheel for pyod: filename=pyod-1.1.0-py3-none-any.whl size=185348 sha256=14b66e2efecaa8d87cf5b6208af84efd9d4cb8afe5448840af431a8b550d0e9b\r\n",
      "  Stored in directory: /root/.cache/pip/wheels/af/c5/35/118dfec39c956e6c9d24d34c807c9251713ee034b2ed12019d\r\n",
      "Successfully built pyod\r\n",
      "Installing collected packages: trace-updater, kaleido, dash-table, dash-html-components, dash-core-components, tsdownsample, scikit-base, schemdraw, pickle5, importlib-metadata, deprecated, ansi2html, sktime, pyod, pmdarima, dash, tbats, plotly-resampler, pycaret\r\n",
      "  Attempting uninstall: importlib-metadata\r\n",
      "    Found existing installation: importlib-metadata 4.11.4\r\n",
      "    Uninstalling importlib-metadata-4.11.4:\r\n",
      "      Successfully uninstalled importlib-metadata-4.11.4\r\n",
      "\u001b[31mERROR: pip's dependency resolver does not currently take into account all the packages that are installed. This behaviour is the source of the following dependency conflicts.\r\n",
      "cudf 21.12.2 requires cupy-cuda115, which is not installed.\r\n",
      "pydocstyle 6.2.3 requires importlib-metadata<5.0.0,>=2.0.0; python_version < \"3.8\", but you have importlib-metadata 6.7.0 which is incompatible.\r\n",
      "librosa 0.10.0 requires soundfile>=0.12.1, but you have soundfile 0.11.0 which is incompatible.\r\n",
      "ibis-framework 2.1.1 requires importlib-metadata<5,>=4; python_version < \"3.8\", but you have importlib-metadata 6.7.0 which is incompatible.\r\n",
      "flake8 5.0.4 requires importlib-metadata<4.3,>=1.1.0; python_version < \"3.8\", but you have importlib-metadata 6.7.0 which is incompatible.\r\n",
      "cmudict 1.0.13 requires importlib-metadata<6.0.0,>=5.1.0, but you have importlib-metadata 6.7.0 which is incompatible.\u001b[0m\u001b[31m\r\n",
      "\u001b[0mSuccessfully installed ansi2html-1.8.0 dash-2.11.1 dash-core-components-2.0.0 dash-html-components-2.0.0 dash-table-5.0.0 deprecated-1.2.14 importlib-metadata-6.7.0 kaleido-0.2.1 pickle5-0.0.12 plotly-resampler-0.9.1 pmdarima-2.0.3 pycaret-3.0.4 pyod-1.1.0 schemdraw-0.15 scikit-base-0.4.6 sktime-0.19.2 tbats-1.1.3 trace-updater-0.0.9.1 tsdownsample-0.1.2\r\n",
      "\u001b[33mWARNING: Running pip as the 'root' user can result in broken permissions and conflicting behaviour with the system package manager. It is recommended to use a virtual environment instead: https://pip.pypa.io/warnings/venv\u001b[0m\u001b[33m\r\n",
      "\u001b[0m"
     ]
    }
   ],
   "source": [
    "!pip install optuna\n",
    "!pip install catboost\n",
    "!pip install pycaret"
   ]
  },
  {
   "cell_type": "code",
   "execution_count": 2,
   "id": "9183b65a",
   "metadata": {
    "execution": {
     "iopub.execute_input": "2023-07-22T02:43:01.708899Z",
     "iopub.status.busy": "2023-07-22T02:43:01.708533Z",
     "iopub.status.idle": "2023-07-22T02:43:11.379574Z",
     "shell.execute_reply": "2023-07-22T02:43:11.378314Z"
    },
    "papermill": {
     "duration": 9.705104,
     "end_time": "2023-07-22T02:43:11.382686",
     "exception": false,
     "start_time": "2023-07-22T02:43:01.677582",
     "status": "completed"
    },
    "tags": []
   },
   "outputs": [],
   "source": [
    "import pandas as pd\n",
    "import numpy as np\n",
    "import seaborn as sns\n",
    "import matplotlib.pyplot as plt\n",
    "\n",
    "# Tuning\n",
    "import optuna\n",
    "from sklearn.model_selection import KFold\n",
    "from sklearn.model_selection import cross_val_score\n",
    "from sklearn.model_selection import train_test_split\n",
    "\n",
    "# Modelling\n",
    "import catboost as cb\n",
    "import xgboost as xgb\n",
    "from sklearn.linear_model import LogisticRegression\n",
    "from pycaret.classification import ClassificationExperiment\n",
    "from sklearn.ensemble import RandomForestClassifier\n",
    "\n",
    "# Evaluation\n",
    "from sklearn.metrics import accuracy_score\n",
    "from sklearn.metrics import confusion_matrix\n",
    "from sklearn.metrics import classification_report"
   ]
  },
  {
   "cell_type": "code",
   "execution_count": 3,
   "id": "23ca2aeb",
   "metadata": {
    "execution": {
     "iopub.execute_input": "2023-07-22T02:43:11.443311Z",
     "iopub.status.busy": "2023-07-22T02:43:11.442980Z",
     "iopub.status.idle": "2023-07-22T02:43:11.513984Z",
     "shell.execute_reply": "2023-07-22T02:43:11.512972Z"
    },
    "papermill": {
     "duration": 0.103837,
     "end_time": "2023-07-22T02:43:11.516382",
     "exception": false,
     "start_time": "2023-07-22T02:43:11.412545",
     "status": "completed"
    },
    "tags": []
   },
   "outputs": [],
   "source": [
    "df_train = pd.read_csv('/kaggle/input/spaceship-titanic/train.csv')\n",
    "df_test = pd.read_csv('/kaggle/input/spaceship-titanic/test.csv')"
   ]
  },
  {
   "cell_type": "markdown",
   "id": "adc58dfe",
   "metadata": {
    "papermill": {
     "duration": 0.028806,
     "end_time": "2023-07-22T02:43:11.574334",
     "exception": false,
     "start_time": "2023-07-22T02:43:11.545528",
     "status": "completed"
    },
    "tags": []
   },
   "source": [
    "# Overview Data"
   ]
  },
  {
   "cell_type": "markdown",
   "id": "92d5515d",
   "metadata": {
    "papermill": {
     "duration": 0.02891,
     "end_time": "2023-07-22T02:43:11.632492",
     "exception": false,
     "start_time": "2023-07-22T02:43:11.603582",
     "status": "completed"
    },
    "tags": []
   },
   "source": [
    "## Train Data"
   ]
  },
  {
   "cell_type": "code",
   "execution_count": 4,
   "id": "f59615c2",
   "metadata": {
    "execution": {
     "iopub.execute_input": "2023-07-22T02:43:11.694137Z",
     "iopub.status.busy": "2023-07-22T02:43:11.693790Z",
     "iopub.status.idle": "2023-07-22T02:43:11.720757Z",
     "shell.execute_reply": "2023-07-22T02:43:11.719711Z"
    },
    "papermill": {
     "duration": 0.060649,
     "end_time": "2023-07-22T02:43:11.723099",
     "exception": false,
     "start_time": "2023-07-22T02:43:11.662450",
     "status": "completed"
    },
    "tags": []
   },
   "outputs": [
    {
     "data": {
      "text/html": [
       "<div>\n",
       "<style scoped>\n",
       "    .dataframe tbody tr th:only-of-type {\n",
       "        vertical-align: middle;\n",
       "    }\n",
       "\n",
       "    .dataframe tbody tr th {\n",
       "        vertical-align: top;\n",
       "    }\n",
       "\n",
       "    .dataframe thead th {\n",
       "        text-align: right;\n",
       "    }\n",
       "</style>\n",
       "<table border=\"1\" class=\"dataframe\">\n",
       "  <thead>\n",
       "    <tr style=\"text-align: right;\">\n",
       "      <th></th>\n",
       "      <th>PassengerId</th>\n",
       "      <th>HomePlanet</th>\n",
       "      <th>CryoSleep</th>\n",
       "      <th>Cabin</th>\n",
       "      <th>Destination</th>\n",
       "      <th>Age</th>\n",
       "      <th>VIP</th>\n",
       "      <th>RoomService</th>\n",
       "      <th>FoodCourt</th>\n",
       "      <th>ShoppingMall</th>\n",
       "      <th>Spa</th>\n",
       "      <th>VRDeck</th>\n",
       "      <th>Name</th>\n",
       "      <th>Transported</th>\n",
       "    </tr>\n",
       "  </thead>\n",
       "  <tbody>\n",
       "    <tr>\n",
       "      <th>0</th>\n",
       "      <td>0001_01</td>\n",
       "      <td>Europa</td>\n",
       "      <td>False</td>\n",
       "      <td>B/0/P</td>\n",
       "      <td>TRAPPIST-1e</td>\n",
       "      <td>39.0</td>\n",
       "      <td>False</td>\n",
       "      <td>0.0</td>\n",
       "      <td>0.0</td>\n",
       "      <td>0.0</td>\n",
       "      <td>0.0</td>\n",
       "      <td>0.0</td>\n",
       "      <td>Maham Ofracculy</td>\n",
       "      <td>False</td>\n",
       "    </tr>\n",
       "    <tr>\n",
       "      <th>1</th>\n",
       "      <td>0002_01</td>\n",
       "      <td>Earth</td>\n",
       "      <td>False</td>\n",
       "      <td>F/0/S</td>\n",
       "      <td>TRAPPIST-1e</td>\n",
       "      <td>24.0</td>\n",
       "      <td>False</td>\n",
       "      <td>109.0</td>\n",
       "      <td>9.0</td>\n",
       "      <td>25.0</td>\n",
       "      <td>549.0</td>\n",
       "      <td>44.0</td>\n",
       "      <td>Juanna Vines</td>\n",
       "      <td>True</td>\n",
       "    </tr>\n",
       "    <tr>\n",
       "      <th>2</th>\n",
       "      <td>0003_01</td>\n",
       "      <td>Europa</td>\n",
       "      <td>False</td>\n",
       "      <td>A/0/S</td>\n",
       "      <td>TRAPPIST-1e</td>\n",
       "      <td>58.0</td>\n",
       "      <td>True</td>\n",
       "      <td>43.0</td>\n",
       "      <td>3576.0</td>\n",
       "      <td>0.0</td>\n",
       "      <td>6715.0</td>\n",
       "      <td>49.0</td>\n",
       "      <td>Altark Susent</td>\n",
       "      <td>False</td>\n",
       "    </tr>\n",
       "    <tr>\n",
       "      <th>3</th>\n",
       "      <td>0003_02</td>\n",
       "      <td>Europa</td>\n",
       "      <td>False</td>\n",
       "      <td>A/0/S</td>\n",
       "      <td>TRAPPIST-1e</td>\n",
       "      <td>33.0</td>\n",
       "      <td>False</td>\n",
       "      <td>0.0</td>\n",
       "      <td>1283.0</td>\n",
       "      <td>371.0</td>\n",
       "      <td>3329.0</td>\n",
       "      <td>193.0</td>\n",
       "      <td>Solam Susent</td>\n",
       "      <td>False</td>\n",
       "    </tr>\n",
       "    <tr>\n",
       "      <th>4</th>\n",
       "      <td>0004_01</td>\n",
       "      <td>Earth</td>\n",
       "      <td>False</td>\n",
       "      <td>F/1/S</td>\n",
       "      <td>TRAPPIST-1e</td>\n",
       "      <td>16.0</td>\n",
       "      <td>False</td>\n",
       "      <td>303.0</td>\n",
       "      <td>70.0</td>\n",
       "      <td>151.0</td>\n",
       "      <td>565.0</td>\n",
       "      <td>2.0</td>\n",
       "      <td>Willy Santantines</td>\n",
       "      <td>True</td>\n",
       "    </tr>\n",
       "  </tbody>\n",
       "</table>\n",
       "</div>"
      ],
      "text/plain": [
       "  PassengerId HomePlanet CryoSleep  Cabin  Destination   Age    VIP  \\\n",
       "0     0001_01     Europa     False  B/0/P  TRAPPIST-1e  39.0  False   \n",
       "1     0002_01      Earth     False  F/0/S  TRAPPIST-1e  24.0  False   \n",
       "2     0003_01     Europa     False  A/0/S  TRAPPIST-1e  58.0   True   \n",
       "3     0003_02     Europa     False  A/0/S  TRAPPIST-1e  33.0  False   \n",
       "4     0004_01      Earth     False  F/1/S  TRAPPIST-1e  16.0  False   \n",
       "\n",
       "   RoomService  FoodCourt  ShoppingMall     Spa  VRDeck               Name  \\\n",
       "0          0.0        0.0           0.0     0.0     0.0    Maham Ofracculy   \n",
       "1        109.0        9.0          25.0   549.0    44.0       Juanna Vines   \n",
       "2         43.0     3576.0           0.0  6715.0    49.0      Altark Susent   \n",
       "3          0.0     1283.0         371.0  3329.0   193.0       Solam Susent   \n",
       "4        303.0       70.0         151.0   565.0     2.0  Willy Santantines   \n",
       "\n",
       "   Transported  \n",
       "0        False  \n",
       "1         True  \n",
       "2        False  \n",
       "3        False  \n",
       "4         True  "
      ]
     },
     "execution_count": 4,
     "metadata": {},
     "output_type": "execute_result"
    }
   ],
   "source": [
    "df_train.head()"
   ]
  },
  {
   "cell_type": "code",
   "execution_count": 5,
   "id": "8e9326d1",
   "metadata": {
    "execution": {
     "iopub.execute_input": "2023-07-22T02:43:11.784365Z",
     "iopub.status.busy": "2023-07-22T02:43:11.784059Z",
     "iopub.status.idle": "2023-07-22T02:43:11.811649Z",
     "shell.execute_reply": "2023-07-22T02:43:11.810245Z"
    },
    "papermill": {
     "duration": 0.060841,
     "end_time": "2023-07-22T02:43:11.814361",
     "exception": false,
     "start_time": "2023-07-22T02:43:11.753520",
     "status": "completed"
    },
    "tags": []
   },
   "outputs": [
    {
     "name": "stdout",
     "output_type": "stream",
     "text": [
      "<class 'pandas.core.frame.DataFrame'>\n",
      "RangeIndex: 8693 entries, 0 to 8692\n",
      "Data columns (total 14 columns):\n",
      " #   Column        Non-Null Count  Dtype  \n",
      "---  ------        --------------  -----  \n",
      " 0   PassengerId   8693 non-null   object \n",
      " 1   HomePlanet    8492 non-null   object \n",
      " 2   CryoSleep     8476 non-null   object \n",
      " 3   Cabin         8494 non-null   object \n",
      " 4   Destination   8511 non-null   object \n",
      " 5   Age           8514 non-null   float64\n",
      " 6   VIP           8490 non-null   object \n",
      " 7   RoomService   8512 non-null   float64\n",
      " 8   FoodCourt     8510 non-null   float64\n",
      " 9   ShoppingMall  8485 non-null   float64\n",
      " 10  Spa           8510 non-null   float64\n",
      " 11  VRDeck        8505 non-null   float64\n",
      " 12  Name          8493 non-null   object \n",
      " 13  Transported   8693 non-null   bool   \n",
      "dtypes: bool(1), float64(6), object(7)\n",
      "memory usage: 891.5+ KB\n"
     ]
    }
   ],
   "source": [
    "df_train.info()"
   ]
  },
  {
   "cell_type": "code",
   "execution_count": 6,
   "id": "1d978c33",
   "metadata": {
    "execution": {
     "iopub.execute_input": "2023-07-22T02:43:11.876780Z",
     "iopub.status.busy": "2023-07-22T02:43:11.876485Z",
     "iopub.status.idle": "2023-07-22T02:43:11.913627Z",
     "shell.execute_reply": "2023-07-22T02:43:11.912428Z"
    },
    "papermill": {
     "duration": 0.070796,
     "end_time": "2023-07-22T02:43:11.916317",
     "exception": false,
     "start_time": "2023-07-22T02:43:11.845521",
     "status": "completed"
    },
    "tags": []
   },
   "outputs": [
    {
     "data": {
      "text/html": [
       "<div>\n",
       "<style scoped>\n",
       "    .dataframe tbody tr th:only-of-type {\n",
       "        vertical-align: middle;\n",
       "    }\n",
       "\n",
       "    .dataframe tbody tr th {\n",
       "        vertical-align: top;\n",
       "    }\n",
       "\n",
       "    .dataframe thead th {\n",
       "        text-align: right;\n",
       "    }\n",
       "</style>\n",
       "<table border=\"1\" class=\"dataframe\">\n",
       "  <thead>\n",
       "    <tr style=\"text-align: right;\">\n",
       "      <th></th>\n",
       "      <th>Age</th>\n",
       "      <th>RoomService</th>\n",
       "      <th>FoodCourt</th>\n",
       "      <th>ShoppingMall</th>\n",
       "      <th>Spa</th>\n",
       "      <th>VRDeck</th>\n",
       "    </tr>\n",
       "  </thead>\n",
       "  <tbody>\n",
       "    <tr>\n",
       "      <th>count</th>\n",
       "      <td>8514.000000</td>\n",
       "      <td>8512.000000</td>\n",
       "      <td>8510.000000</td>\n",
       "      <td>8485.000000</td>\n",
       "      <td>8510.000000</td>\n",
       "      <td>8505.000000</td>\n",
       "    </tr>\n",
       "    <tr>\n",
       "      <th>mean</th>\n",
       "      <td>28.827930</td>\n",
       "      <td>224.687617</td>\n",
       "      <td>458.077203</td>\n",
       "      <td>173.729169</td>\n",
       "      <td>311.138778</td>\n",
       "      <td>304.854791</td>\n",
       "    </tr>\n",
       "    <tr>\n",
       "      <th>std</th>\n",
       "      <td>14.489021</td>\n",
       "      <td>666.717663</td>\n",
       "      <td>1611.489240</td>\n",
       "      <td>604.696458</td>\n",
       "      <td>1136.705535</td>\n",
       "      <td>1145.717189</td>\n",
       "    </tr>\n",
       "    <tr>\n",
       "      <th>min</th>\n",
       "      <td>0.000000</td>\n",
       "      <td>0.000000</td>\n",
       "      <td>0.000000</td>\n",
       "      <td>0.000000</td>\n",
       "      <td>0.000000</td>\n",
       "      <td>0.000000</td>\n",
       "    </tr>\n",
       "    <tr>\n",
       "      <th>25%</th>\n",
       "      <td>19.000000</td>\n",
       "      <td>0.000000</td>\n",
       "      <td>0.000000</td>\n",
       "      <td>0.000000</td>\n",
       "      <td>0.000000</td>\n",
       "      <td>0.000000</td>\n",
       "    </tr>\n",
       "    <tr>\n",
       "      <th>50%</th>\n",
       "      <td>27.000000</td>\n",
       "      <td>0.000000</td>\n",
       "      <td>0.000000</td>\n",
       "      <td>0.000000</td>\n",
       "      <td>0.000000</td>\n",
       "      <td>0.000000</td>\n",
       "    </tr>\n",
       "    <tr>\n",
       "      <th>75%</th>\n",
       "      <td>38.000000</td>\n",
       "      <td>47.000000</td>\n",
       "      <td>76.000000</td>\n",
       "      <td>27.000000</td>\n",
       "      <td>59.000000</td>\n",
       "      <td>46.000000</td>\n",
       "    </tr>\n",
       "    <tr>\n",
       "      <th>max</th>\n",
       "      <td>79.000000</td>\n",
       "      <td>14327.000000</td>\n",
       "      <td>29813.000000</td>\n",
       "      <td>23492.000000</td>\n",
       "      <td>22408.000000</td>\n",
       "      <td>24133.000000</td>\n",
       "    </tr>\n",
       "  </tbody>\n",
       "</table>\n",
       "</div>"
      ],
      "text/plain": [
       "               Age   RoomService     FoodCourt  ShoppingMall           Spa  \\\n",
       "count  8514.000000   8512.000000   8510.000000   8485.000000   8510.000000   \n",
       "mean     28.827930    224.687617    458.077203    173.729169    311.138778   \n",
       "std      14.489021    666.717663   1611.489240    604.696458   1136.705535   \n",
       "min       0.000000      0.000000      0.000000      0.000000      0.000000   \n",
       "25%      19.000000      0.000000      0.000000      0.000000      0.000000   \n",
       "50%      27.000000      0.000000      0.000000      0.000000      0.000000   \n",
       "75%      38.000000     47.000000     76.000000     27.000000     59.000000   \n",
       "max      79.000000  14327.000000  29813.000000  23492.000000  22408.000000   \n",
       "\n",
       "             VRDeck  \n",
       "count   8505.000000  \n",
       "mean     304.854791  \n",
       "std     1145.717189  \n",
       "min        0.000000  \n",
       "25%        0.000000  \n",
       "50%        0.000000  \n",
       "75%       46.000000  \n",
       "max    24133.000000  "
      ]
     },
     "execution_count": 6,
     "metadata": {},
     "output_type": "execute_result"
    }
   ],
   "source": [
    "df_train.describe()"
   ]
  },
  {
   "cell_type": "markdown",
   "id": "161f9210",
   "metadata": {
    "papermill": {
     "duration": 0.029494,
     "end_time": "2023-07-22T02:43:11.978254",
     "exception": false,
     "start_time": "2023-07-22T02:43:11.948760",
     "status": "completed"
    },
    "tags": []
   },
   "source": [
    "## Test Data"
   ]
  },
  {
   "cell_type": "code",
   "execution_count": 7,
   "id": "a0a95c2c",
   "metadata": {
    "execution": {
     "iopub.execute_input": "2023-07-22T02:43:12.041240Z",
     "iopub.status.busy": "2023-07-22T02:43:12.040216Z",
     "iopub.status.idle": "2023-07-22T02:43:12.061382Z",
     "shell.execute_reply": "2023-07-22T02:43:12.060191Z"
    },
    "papermill": {
     "duration": 0.055426,
     "end_time": "2023-07-22T02:43:12.064106",
     "exception": false,
     "start_time": "2023-07-22T02:43:12.008680",
     "status": "completed"
    },
    "tags": []
   },
   "outputs": [
    {
     "data": {
      "text/html": [
       "<div>\n",
       "<style scoped>\n",
       "    .dataframe tbody tr th:only-of-type {\n",
       "        vertical-align: middle;\n",
       "    }\n",
       "\n",
       "    .dataframe tbody tr th {\n",
       "        vertical-align: top;\n",
       "    }\n",
       "\n",
       "    .dataframe thead th {\n",
       "        text-align: right;\n",
       "    }\n",
       "</style>\n",
       "<table border=\"1\" class=\"dataframe\">\n",
       "  <thead>\n",
       "    <tr style=\"text-align: right;\">\n",
       "      <th></th>\n",
       "      <th>PassengerId</th>\n",
       "      <th>HomePlanet</th>\n",
       "      <th>CryoSleep</th>\n",
       "      <th>Cabin</th>\n",
       "      <th>Destination</th>\n",
       "      <th>Age</th>\n",
       "      <th>VIP</th>\n",
       "      <th>RoomService</th>\n",
       "      <th>FoodCourt</th>\n",
       "      <th>ShoppingMall</th>\n",
       "      <th>Spa</th>\n",
       "      <th>VRDeck</th>\n",
       "      <th>Name</th>\n",
       "    </tr>\n",
       "  </thead>\n",
       "  <tbody>\n",
       "    <tr>\n",
       "      <th>0</th>\n",
       "      <td>0013_01</td>\n",
       "      <td>Earth</td>\n",
       "      <td>True</td>\n",
       "      <td>G/3/S</td>\n",
       "      <td>TRAPPIST-1e</td>\n",
       "      <td>27.0</td>\n",
       "      <td>False</td>\n",
       "      <td>0.0</td>\n",
       "      <td>0.0</td>\n",
       "      <td>0.0</td>\n",
       "      <td>0.0</td>\n",
       "      <td>0.0</td>\n",
       "      <td>Nelly Carsoning</td>\n",
       "    </tr>\n",
       "    <tr>\n",
       "      <th>1</th>\n",
       "      <td>0018_01</td>\n",
       "      <td>Earth</td>\n",
       "      <td>False</td>\n",
       "      <td>F/4/S</td>\n",
       "      <td>TRAPPIST-1e</td>\n",
       "      <td>19.0</td>\n",
       "      <td>False</td>\n",
       "      <td>0.0</td>\n",
       "      <td>9.0</td>\n",
       "      <td>0.0</td>\n",
       "      <td>2823.0</td>\n",
       "      <td>0.0</td>\n",
       "      <td>Lerome Peckers</td>\n",
       "    </tr>\n",
       "    <tr>\n",
       "      <th>2</th>\n",
       "      <td>0019_01</td>\n",
       "      <td>Europa</td>\n",
       "      <td>True</td>\n",
       "      <td>C/0/S</td>\n",
       "      <td>55 Cancri e</td>\n",
       "      <td>31.0</td>\n",
       "      <td>False</td>\n",
       "      <td>0.0</td>\n",
       "      <td>0.0</td>\n",
       "      <td>0.0</td>\n",
       "      <td>0.0</td>\n",
       "      <td>0.0</td>\n",
       "      <td>Sabih Unhearfus</td>\n",
       "    </tr>\n",
       "    <tr>\n",
       "      <th>3</th>\n",
       "      <td>0021_01</td>\n",
       "      <td>Europa</td>\n",
       "      <td>False</td>\n",
       "      <td>C/1/S</td>\n",
       "      <td>TRAPPIST-1e</td>\n",
       "      <td>38.0</td>\n",
       "      <td>False</td>\n",
       "      <td>0.0</td>\n",
       "      <td>6652.0</td>\n",
       "      <td>0.0</td>\n",
       "      <td>181.0</td>\n",
       "      <td>585.0</td>\n",
       "      <td>Meratz Caltilter</td>\n",
       "    </tr>\n",
       "    <tr>\n",
       "      <th>4</th>\n",
       "      <td>0023_01</td>\n",
       "      <td>Earth</td>\n",
       "      <td>False</td>\n",
       "      <td>F/5/S</td>\n",
       "      <td>TRAPPIST-1e</td>\n",
       "      <td>20.0</td>\n",
       "      <td>False</td>\n",
       "      <td>10.0</td>\n",
       "      <td>0.0</td>\n",
       "      <td>635.0</td>\n",
       "      <td>0.0</td>\n",
       "      <td>0.0</td>\n",
       "      <td>Brence Harperez</td>\n",
       "    </tr>\n",
       "  </tbody>\n",
       "</table>\n",
       "</div>"
      ],
      "text/plain": [
       "  PassengerId HomePlanet CryoSleep  Cabin  Destination   Age    VIP  \\\n",
       "0     0013_01      Earth      True  G/3/S  TRAPPIST-1e  27.0  False   \n",
       "1     0018_01      Earth     False  F/4/S  TRAPPIST-1e  19.0  False   \n",
       "2     0019_01     Europa      True  C/0/S  55 Cancri e  31.0  False   \n",
       "3     0021_01     Europa     False  C/1/S  TRAPPIST-1e  38.0  False   \n",
       "4     0023_01      Earth     False  F/5/S  TRAPPIST-1e  20.0  False   \n",
       "\n",
       "   RoomService  FoodCourt  ShoppingMall     Spa  VRDeck              Name  \n",
       "0          0.0        0.0           0.0     0.0     0.0   Nelly Carsoning  \n",
       "1          0.0        9.0           0.0  2823.0     0.0    Lerome Peckers  \n",
       "2          0.0        0.0           0.0     0.0     0.0   Sabih Unhearfus  \n",
       "3          0.0     6652.0           0.0   181.0   585.0  Meratz Caltilter  \n",
       "4         10.0        0.0         635.0     0.0     0.0   Brence Harperez  "
      ]
     },
     "execution_count": 7,
     "metadata": {},
     "output_type": "execute_result"
    }
   ],
   "source": [
    "df_test.head()"
   ]
  },
  {
   "cell_type": "code",
   "execution_count": 8,
   "id": "02721282",
   "metadata": {
    "execution": {
     "iopub.execute_input": "2023-07-22T02:43:12.126762Z",
     "iopub.status.busy": "2023-07-22T02:43:12.125905Z",
     "iopub.status.idle": "2023-07-22T02:43:12.141950Z",
     "shell.execute_reply": "2023-07-22T02:43:12.140031Z"
    },
    "papermill": {
     "duration": 0.04921,
     "end_time": "2023-07-22T02:43:12.144329",
     "exception": false,
     "start_time": "2023-07-22T02:43:12.095119",
     "status": "completed"
    },
    "tags": []
   },
   "outputs": [
    {
     "name": "stdout",
     "output_type": "stream",
     "text": [
      "<class 'pandas.core.frame.DataFrame'>\n",
      "RangeIndex: 4277 entries, 0 to 4276\n",
      "Data columns (total 13 columns):\n",
      " #   Column        Non-Null Count  Dtype  \n",
      "---  ------        --------------  -----  \n",
      " 0   PassengerId   4277 non-null   object \n",
      " 1   HomePlanet    4190 non-null   object \n",
      " 2   CryoSleep     4184 non-null   object \n",
      " 3   Cabin         4177 non-null   object \n",
      " 4   Destination   4185 non-null   object \n",
      " 5   Age           4186 non-null   float64\n",
      " 6   VIP           4184 non-null   object \n",
      " 7   RoomService   4195 non-null   float64\n",
      " 8   FoodCourt     4171 non-null   float64\n",
      " 9   ShoppingMall  4179 non-null   float64\n",
      " 10  Spa           4176 non-null   float64\n",
      " 11  VRDeck        4197 non-null   float64\n",
      " 12  Name          4183 non-null   object \n",
      "dtypes: float64(6), object(7)\n",
      "memory usage: 434.5+ KB\n"
     ]
    }
   ],
   "source": [
    "df_test.info()"
   ]
  },
  {
   "cell_type": "code",
   "execution_count": 9,
   "id": "f5d1e96a",
   "metadata": {
    "execution": {
     "iopub.execute_input": "2023-07-22T02:43:12.207645Z",
     "iopub.status.busy": "2023-07-22T02:43:12.206667Z",
     "iopub.status.idle": "2023-07-22T02:43:12.238858Z",
     "shell.execute_reply": "2023-07-22T02:43:12.237610Z"
    },
    "papermill": {
     "duration": 0.067032,
     "end_time": "2023-07-22T02:43:12.242061",
     "exception": false,
     "start_time": "2023-07-22T02:43:12.175029",
     "status": "completed"
    },
    "tags": []
   },
   "outputs": [
    {
     "data": {
      "text/html": [
       "<div>\n",
       "<style scoped>\n",
       "    .dataframe tbody tr th:only-of-type {\n",
       "        vertical-align: middle;\n",
       "    }\n",
       "\n",
       "    .dataframe tbody tr th {\n",
       "        vertical-align: top;\n",
       "    }\n",
       "\n",
       "    .dataframe thead th {\n",
       "        text-align: right;\n",
       "    }\n",
       "</style>\n",
       "<table border=\"1\" class=\"dataframe\">\n",
       "  <thead>\n",
       "    <tr style=\"text-align: right;\">\n",
       "      <th></th>\n",
       "      <th>Age</th>\n",
       "      <th>RoomService</th>\n",
       "      <th>FoodCourt</th>\n",
       "      <th>ShoppingMall</th>\n",
       "      <th>Spa</th>\n",
       "      <th>VRDeck</th>\n",
       "    </tr>\n",
       "  </thead>\n",
       "  <tbody>\n",
       "    <tr>\n",
       "      <th>count</th>\n",
       "      <td>8514.000000</td>\n",
       "      <td>8512.000000</td>\n",
       "      <td>8510.000000</td>\n",
       "      <td>8485.000000</td>\n",
       "      <td>8510.000000</td>\n",
       "      <td>8505.000000</td>\n",
       "    </tr>\n",
       "    <tr>\n",
       "      <th>mean</th>\n",
       "      <td>28.827930</td>\n",
       "      <td>224.687617</td>\n",
       "      <td>458.077203</td>\n",
       "      <td>173.729169</td>\n",
       "      <td>311.138778</td>\n",
       "      <td>304.854791</td>\n",
       "    </tr>\n",
       "    <tr>\n",
       "      <th>std</th>\n",
       "      <td>14.489021</td>\n",
       "      <td>666.717663</td>\n",
       "      <td>1611.489240</td>\n",
       "      <td>604.696458</td>\n",
       "      <td>1136.705535</td>\n",
       "      <td>1145.717189</td>\n",
       "    </tr>\n",
       "    <tr>\n",
       "      <th>min</th>\n",
       "      <td>0.000000</td>\n",
       "      <td>0.000000</td>\n",
       "      <td>0.000000</td>\n",
       "      <td>0.000000</td>\n",
       "      <td>0.000000</td>\n",
       "      <td>0.000000</td>\n",
       "    </tr>\n",
       "    <tr>\n",
       "      <th>25%</th>\n",
       "      <td>19.000000</td>\n",
       "      <td>0.000000</td>\n",
       "      <td>0.000000</td>\n",
       "      <td>0.000000</td>\n",
       "      <td>0.000000</td>\n",
       "      <td>0.000000</td>\n",
       "    </tr>\n",
       "    <tr>\n",
       "      <th>50%</th>\n",
       "      <td>27.000000</td>\n",
       "      <td>0.000000</td>\n",
       "      <td>0.000000</td>\n",
       "      <td>0.000000</td>\n",
       "      <td>0.000000</td>\n",
       "      <td>0.000000</td>\n",
       "    </tr>\n",
       "    <tr>\n",
       "      <th>75%</th>\n",
       "      <td>38.000000</td>\n",
       "      <td>47.000000</td>\n",
       "      <td>76.000000</td>\n",
       "      <td>27.000000</td>\n",
       "      <td>59.000000</td>\n",
       "      <td>46.000000</td>\n",
       "    </tr>\n",
       "    <tr>\n",
       "      <th>max</th>\n",
       "      <td>79.000000</td>\n",
       "      <td>14327.000000</td>\n",
       "      <td>29813.000000</td>\n",
       "      <td>23492.000000</td>\n",
       "      <td>22408.000000</td>\n",
       "      <td>24133.000000</td>\n",
       "    </tr>\n",
       "  </tbody>\n",
       "</table>\n",
       "</div>"
      ],
      "text/plain": [
       "               Age   RoomService     FoodCourt  ShoppingMall           Spa  \\\n",
       "count  8514.000000   8512.000000   8510.000000   8485.000000   8510.000000   \n",
       "mean     28.827930    224.687617    458.077203    173.729169    311.138778   \n",
       "std      14.489021    666.717663   1611.489240    604.696458   1136.705535   \n",
       "min       0.000000      0.000000      0.000000      0.000000      0.000000   \n",
       "25%      19.000000      0.000000      0.000000      0.000000      0.000000   \n",
       "50%      27.000000      0.000000      0.000000      0.000000      0.000000   \n",
       "75%      38.000000     47.000000     76.000000     27.000000     59.000000   \n",
       "max      79.000000  14327.000000  29813.000000  23492.000000  22408.000000   \n",
       "\n",
       "             VRDeck  \n",
       "count   8505.000000  \n",
       "mean     304.854791  \n",
       "std     1145.717189  \n",
       "min        0.000000  \n",
       "25%        0.000000  \n",
       "50%        0.000000  \n",
       "75%       46.000000  \n",
       "max    24133.000000  "
      ]
     },
     "execution_count": 9,
     "metadata": {},
     "output_type": "execute_result"
    }
   ],
   "source": [
    "df_train.describe()"
   ]
  },
  {
   "cell_type": "markdown",
   "id": "0992a692",
   "metadata": {
    "papermill": {
     "duration": 0.031027,
     "end_time": "2023-07-22T02:43:12.305835",
     "exception": false,
     "start_time": "2023-07-22T02:43:12.274808",
     "status": "completed"
    },
    "tags": []
   },
   "source": [
    "# Exploratory Data Analysis"
   ]
  },
  {
   "cell_type": "markdown",
   "id": "0e457d0e",
   "metadata": {
    "papermill": {
     "duration": 0.029972,
     "end_time": "2023-07-22T02:43:12.366300",
     "exception": false,
     "start_time": "2023-07-22T02:43:12.336328",
     "status": "completed"
    },
    "tags": []
   },
   "source": [
    "### check duplicate"
   ]
  },
  {
   "cell_type": "code",
   "execution_count": 10,
   "id": "1cd85971",
   "metadata": {
    "execution": {
     "iopub.execute_input": "2023-07-22T02:43:12.429395Z",
     "iopub.status.busy": "2023-07-22T02:43:12.428487Z",
     "iopub.status.idle": "2023-07-22T02:43:12.457877Z",
     "shell.execute_reply": "2023-07-22T02:43:12.456639Z"
    },
    "papermill": {
     "duration": 0.063922,
     "end_time": "2023-07-22T02:43:12.460765",
     "exception": false,
     "start_time": "2023-07-22T02:43:12.396843",
     "status": "completed"
    },
    "tags": []
   },
   "outputs": [
    {
     "data": {
      "text/html": [
       "<div>\n",
       "<style scoped>\n",
       "    .dataframe tbody tr th:only-of-type {\n",
       "        vertical-align: middle;\n",
       "    }\n",
       "\n",
       "    .dataframe tbody tr th {\n",
       "        vertical-align: top;\n",
       "    }\n",
       "\n",
       "    .dataframe thead th {\n",
       "        text-align: right;\n",
       "    }\n",
       "</style>\n",
       "<table border=\"1\" class=\"dataframe\">\n",
       "  <thead>\n",
       "    <tr style=\"text-align: right;\">\n",
       "      <th></th>\n",
       "      <th>PassengerId</th>\n",
       "      <th>HomePlanet</th>\n",
       "      <th>CryoSleep</th>\n",
       "      <th>Cabin</th>\n",
       "      <th>Destination</th>\n",
       "      <th>Age</th>\n",
       "      <th>VIP</th>\n",
       "      <th>RoomService</th>\n",
       "      <th>FoodCourt</th>\n",
       "      <th>ShoppingMall</th>\n",
       "      <th>Spa</th>\n",
       "      <th>VRDeck</th>\n",
       "      <th>Name</th>\n",
       "      <th>Transported</th>\n",
       "    </tr>\n",
       "  </thead>\n",
       "  <tbody>\n",
       "  </tbody>\n",
       "</table>\n",
       "</div>"
      ],
      "text/plain": [
       "Empty DataFrame\n",
       "Columns: [PassengerId, HomePlanet, CryoSleep, Cabin, Destination, Age, VIP, RoomService, FoodCourt, ShoppingMall, Spa, VRDeck, Name, Transported]\n",
       "Index: []"
      ]
     },
     "execution_count": 10,
     "metadata": {},
     "output_type": "execute_result"
    }
   ],
   "source": [
    "df_train[df_train.duplicated()]"
   ]
  },
  {
   "cell_type": "markdown",
   "id": "8e1363b2",
   "metadata": {
    "papermill": {
     "duration": 0.030468,
     "end_time": "2023-07-22T02:43:12.522725",
     "exception": false,
     "start_time": "2023-07-22T02:43:12.492257",
     "status": "completed"
    },
    "tags": []
   },
   "source": [
    "### Missing Values"
   ]
  },
  {
   "cell_type": "code",
   "execution_count": 11,
   "id": "7637d1b7",
   "metadata": {
    "execution": {
     "iopub.execute_input": "2023-07-22T02:43:12.585543Z",
     "iopub.status.busy": "2023-07-22T02:43:12.584633Z",
     "iopub.status.idle": "2023-07-22T02:43:12.600154Z",
     "shell.execute_reply": "2023-07-22T02:43:12.599127Z"
    },
    "papermill": {
     "duration": 0.049355,
     "end_time": "2023-07-22T02:43:12.602520",
     "exception": false,
     "start_time": "2023-07-22T02:43:12.553165",
     "status": "completed"
    },
    "tags": []
   },
   "outputs": [
    {
     "data": {
      "text/plain": [
       "PassengerId       0\n",
       "HomePlanet      201\n",
       "CryoSleep       217\n",
       "Cabin           199\n",
       "Destination     182\n",
       "Age             179\n",
       "VIP             203\n",
       "RoomService     181\n",
       "FoodCourt       183\n",
       "ShoppingMall    208\n",
       "Spa             183\n",
       "VRDeck          188\n",
       "Name            200\n",
       "Transported       0\n",
       "dtype: int64"
      ]
     },
     "execution_count": 11,
     "metadata": {},
     "output_type": "execute_result"
    }
   ],
   "source": [
    "df_train.isna().sum()"
   ]
  },
  {
   "cell_type": "markdown",
   "id": "4c2b944d",
   "metadata": {
    "papermill": {
     "duration": 0.030572,
     "end_time": "2023-07-22T02:43:12.663882",
     "exception": false,
     "start_time": "2023-07-22T02:43:12.633310",
     "status": "completed"
    },
    "tags": []
   },
   "source": [
    "I assume VIP passengers are the rich people. Then I will also assume that they will spend more in luxury amenities (RoomService, FoodCourt, ShoppingMall, Spa, VRDeck). \n",
    "\n",
    "My propose solution for these columns are:\n",
    "- non vip: fillna with non-vip mean\n",
    "- vip: fillna with vip mean"
   ]
  },
  {
   "cell_type": "code",
   "execution_count": 12,
   "id": "189af67c",
   "metadata": {
    "execution": {
     "iopub.execute_input": "2023-07-22T02:43:12.727217Z",
     "iopub.status.busy": "2023-07-22T02:43:12.726305Z",
     "iopub.status.idle": "2023-07-22T02:43:12.740559Z",
     "shell.execute_reply": "2023-07-22T02:43:12.739368Z"
    },
    "papermill": {
     "duration": 0.048652,
     "end_time": "2023-07-22T02:43:12.743036",
     "exception": false,
     "start_time": "2023-07-22T02:43:12.694384",
     "status": "completed"
    },
    "tags": []
   },
   "outputs": [],
   "source": [
    "def fillna_luxury_amenities(df):\n",
    "    luxury_amenities = ['RoomService', 'FoodCourt', 'ShoppingMall', 'Spa', 'VRDeck']\n",
    "    df = df.copy()\n",
    "    for col in luxury_amenities:\n",
    "        # VIP\n",
    "        df.loc[(df['VIP']==True) & (df[col].isna()), col] = df.loc[df['VIP']==True, col].mean()\n",
    "        # non VIP\n",
    "        df.loc[(df['VIP']==False) & (df[col].isna()), col] = df.loc[df['VIP']==False, col].mean()\n",
    "    return df\n",
    "\n",
    "def fillna_cabin(row):\n",
    "    values = df_train['Cabin'].dropna().unique()\n",
    "    if pd.isnull(row):\n",
    "        return np.random.choice(values)\n",
    "    else:\n",
    "        return row\n",
    "    \n",
    "# main function for fill missing values\n",
    "def fill_missing_values(df):\n",
    "    df = df.copy()\n",
    "    df['HomePlanet'] = df['HomePlanet'].fillna(df['HomePlanet'].mode().iloc[0])\n",
    "    df['CryoSleep'] = df['CryoSleep'].fillna(df['CryoSleep'].mode().iloc[0])\n",
    "    df['Destination'] = df['Destination'].fillna(df['Destination'].mode().iloc[0])\n",
    "    df['VIP'] = df['VIP'].fillna(df['VIP'].mode().iloc[0])\n",
    "    df['Age'] = df['Age'].fillna(df['Age'].mean())\n",
    "    df['Cabin'] = df['Cabin'].apply(fillna_cabin)\n",
    "    df = fillna_luxury_amenities(df)\n",
    "    df['Name'] = df['Name'].fillna(\"unknown\")\n",
    "    return df"
   ]
  },
  {
   "cell_type": "code",
   "execution_count": 13,
   "id": "287377d7",
   "metadata": {
    "execution": {
     "iopub.execute_input": "2023-07-22T02:43:12.805810Z",
     "iopub.status.busy": "2023-07-22T02:43:12.805502Z",
     "iopub.status.idle": "2023-07-22T02:43:42.975622Z",
     "shell.execute_reply": "2023-07-22T02:43:42.974337Z"
    },
    "papermill": {
     "duration": 30.205085,
     "end_time": "2023-07-22T02:43:42.979002",
     "exception": false,
     "start_time": "2023-07-22T02:43:12.773917",
     "status": "completed"
    },
    "tags": []
   },
   "outputs": [],
   "source": [
    "df_train = fill_missing_values(df_train)\n",
    "df_test = fill_missing_values(df_test)"
   ]
  },
  {
   "cell_type": "code",
   "execution_count": 14,
   "id": "9d6b2781",
   "metadata": {
    "execution": {
     "iopub.execute_input": "2023-07-22T02:43:43.046290Z",
     "iopub.status.busy": "2023-07-22T02:43:43.045926Z",
     "iopub.status.idle": "2023-07-22T02:43:43.072997Z",
     "shell.execute_reply": "2023-07-22T02:43:43.071680Z"
    },
    "papermill": {
     "duration": 0.063601,
     "end_time": "2023-07-22T02:43:43.076168",
     "exception": false,
     "start_time": "2023-07-22T02:43:43.012567",
     "status": "completed"
    },
    "tags": []
   },
   "outputs": [
    {
     "data": {
      "text/html": [
       "<div>\n",
       "<style scoped>\n",
       "    .dataframe tbody tr th:only-of-type {\n",
       "        vertical-align: middle;\n",
       "    }\n",
       "\n",
       "    .dataframe tbody tr th {\n",
       "        vertical-align: top;\n",
       "    }\n",
       "\n",
       "    .dataframe thead th {\n",
       "        text-align: right;\n",
       "    }\n",
       "</style>\n",
       "<table border=\"1\" class=\"dataframe\">\n",
       "  <thead>\n",
       "    <tr style=\"text-align: right;\">\n",
       "      <th></th>\n",
       "      <th>PassengerId</th>\n",
       "      <th>HomePlanet</th>\n",
       "      <th>CryoSleep</th>\n",
       "      <th>Cabin</th>\n",
       "      <th>Destination</th>\n",
       "      <th>Age</th>\n",
       "      <th>VIP</th>\n",
       "      <th>RoomService</th>\n",
       "      <th>FoodCourt</th>\n",
       "      <th>ShoppingMall</th>\n",
       "      <th>Spa</th>\n",
       "      <th>VRDeck</th>\n",
       "      <th>Name</th>\n",
       "      <th>Transported</th>\n",
       "    </tr>\n",
       "  </thead>\n",
       "  <tbody>\n",
       "    <tr>\n",
       "      <th>0</th>\n",
       "      <td>0001_01</td>\n",
       "      <td>Europa</td>\n",
       "      <td>False</td>\n",
       "      <td>B/0/P</td>\n",
       "      <td>TRAPPIST-1e</td>\n",
       "      <td>39.0</td>\n",
       "      <td>False</td>\n",
       "      <td>0.0</td>\n",
       "      <td>0.0</td>\n",
       "      <td>0.0</td>\n",
       "      <td>0.0</td>\n",
       "      <td>0.0</td>\n",
       "      <td>Maham Ofracculy</td>\n",
       "      <td>False</td>\n",
       "    </tr>\n",
       "    <tr>\n",
       "      <th>1</th>\n",
       "      <td>0002_01</td>\n",
       "      <td>Earth</td>\n",
       "      <td>False</td>\n",
       "      <td>F/0/S</td>\n",
       "      <td>TRAPPIST-1e</td>\n",
       "      <td>24.0</td>\n",
       "      <td>False</td>\n",
       "      <td>109.0</td>\n",
       "      <td>9.0</td>\n",
       "      <td>25.0</td>\n",
       "      <td>549.0</td>\n",
       "      <td>44.0</td>\n",
       "      <td>Juanna Vines</td>\n",
       "      <td>True</td>\n",
       "    </tr>\n",
       "    <tr>\n",
       "      <th>2</th>\n",
       "      <td>0003_01</td>\n",
       "      <td>Europa</td>\n",
       "      <td>False</td>\n",
       "      <td>A/0/S</td>\n",
       "      <td>TRAPPIST-1e</td>\n",
       "      <td>58.0</td>\n",
       "      <td>True</td>\n",
       "      <td>43.0</td>\n",
       "      <td>3576.0</td>\n",
       "      <td>0.0</td>\n",
       "      <td>6715.0</td>\n",
       "      <td>49.0</td>\n",
       "      <td>Altark Susent</td>\n",
       "      <td>False</td>\n",
       "    </tr>\n",
       "    <tr>\n",
       "      <th>3</th>\n",
       "      <td>0003_02</td>\n",
       "      <td>Europa</td>\n",
       "      <td>False</td>\n",
       "      <td>A/0/S</td>\n",
       "      <td>TRAPPIST-1e</td>\n",
       "      <td>33.0</td>\n",
       "      <td>False</td>\n",
       "      <td>0.0</td>\n",
       "      <td>1283.0</td>\n",
       "      <td>371.0</td>\n",
       "      <td>3329.0</td>\n",
       "      <td>193.0</td>\n",
       "      <td>Solam Susent</td>\n",
       "      <td>False</td>\n",
       "    </tr>\n",
       "    <tr>\n",
       "      <th>4</th>\n",
       "      <td>0004_01</td>\n",
       "      <td>Earth</td>\n",
       "      <td>False</td>\n",
       "      <td>F/1/S</td>\n",
       "      <td>TRAPPIST-1e</td>\n",
       "      <td>16.0</td>\n",
       "      <td>False</td>\n",
       "      <td>303.0</td>\n",
       "      <td>70.0</td>\n",
       "      <td>151.0</td>\n",
       "      <td>565.0</td>\n",
       "      <td>2.0</td>\n",
       "      <td>Willy Santantines</td>\n",
       "      <td>True</td>\n",
       "    </tr>\n",
       "  </tbody>\n",
       "</table>\n",
       "</div>"
      ],
      "text/plain": [
       "  PassengerId HomePlanet  CryoSleep  Cabin  Destination   Age    VIP  \\\n",
       "0     0001_01     Europa      False  B/0/P  TRAPPIST-1e  39.0  False   \n",
       "1     0002_01      Earth      False  F/0/S  TRAPPIST-1e  24.0  False   \n",
       "2     0003_01     Europa      False  A/0/S  TRAPPIST-1e  58.0   True   \n",
       "3     0003_02     Europa      False  A/0/S  TRAPPIST-1e  33.0  False   \n",
       "4     0004_01      Earth      False  F/1/S  TRAPPIST-1e  16.0  False   \n",
       "\n",
       "   RoomService  FoodCourt  ShoppingMall     Spa  VRDeck               Name  \\\n",
       "0          0.0        0.0           0.0     0.0     0.0    Maham Ofracculy   \n",
       "1        109.0        9.0          25.0   549.0    44.0       Juanna Vines   \n",
       "2         43.0     3576.0           0.0  6715.0    49.0      Altark Susent   \n",
       "3          0.0     1283.0         371.0  3329.0   193.0       Solam Susent   \n",
       "4        303.0       70.0         151.0   565.0     2.0  Willy Santantines   \n",
       "\n",
       "   Transported  \n",
       "0        False  \n",
       "1         True  \n",
       "2        False  \n",
       "3        False  \n",
       "4         True  "
      ]
     },
     "execution_count": 14,
     "metadata": {},
     "output_type": "execute_result"
    }
   ],
   "source": [
    "df_train.head()"
   ]
  },
  {
   "cell_type": "markdown",
   "id": "be640858",
   "metadata": {
    "papermill": {
     "duration": 0.031961,
     "end_time": "2023-07-22T02:43:43.140068",
     "exception": false,
     "start_time": "2023-07-22T02:43:43.108107",
     "status": "completed"
    },
    "tags": []
   },
   "source": [
    "### some visualization"
   ]
  },
  {
   "cell_type": "code",
   "execution_count": 15,
   "id": "451437ee",
   "metadata": {
    "execution": {
     "iopub.execute_input": "2023-07-22T02:43:43.205263Z",
     "iopub.status.busy": "2023-07-22T02:43:43.204893Z",
     "iopub.status.idle": "2023-07-22T02:43:43.729572Z",
     "shell.execute_reply": "2023-07-22T02:43:43.728377Z"
    },
    "papermill": {
     "duration": 0.560117,
     "end_time": "2023-07-22T02:43:43.732037",
     "exception": false,
     "start_time": "2023-07-22T02:43:43.171920",
     "status": "completed"
    },
    "tags": []
   },
   "outputs": [
    {
     "data": {
      "image/png": "[encoded data removed]",
      "text/plain": [
       "<Figure size 800x550 with 1 Axes>"
      ]
     },
     "metadata": {},
     "output_type": "display_data"
    },
    {
     "data": {
      "image/png": "[encoded data removed]",
      "text/plain": [
       "<Figure size 800x550 with 1 Axes>"
      ]
     },
     "metadata": {},
     "output_type": "display_data"
    }
   ],
   "source": [
    "cols = ['HomePlanet', 'CryoSleep']\n",
    "for col in cols:\n",
    "    sns.countplot(data=df_train, x=col, hue='VIP')\n",
    "    plt.show()"
   ]
  },
  {
   "cell_type": "code",
   "execution_count": 16,
   "id": "a9be3a3c",
   "metadata": {
    "execution": {
     "iopub.execute_input": "2023-07-22T02:43:43.802434Z",
     "iopub.status.busy": "2023-07-22T02:43:43.802087Z",
     "iopub.status.idle": "2023-07-22T02:43:44.093117Z",
     "shell.execute_reply": "2023-07-22T02:43:44.091910Z"
    },
    "papermill": {
     "duration": 0.328636,
     "end_time": "2023-07-22T02:43:44.095743",
     "exception": false,
     "start_time": "2023-07-22T02:43:43.767107",
     "status": "completed"
    },
    "tags": []
   },
   "outputs": [
    {
     "data": {
      "text/plain": [
       "<AxesSubplot:xlabel='HomePlanet', ylabel='count'>"
      ]
     },
     "execution_count": 16,
     "metadata": {},
     "output_type": "execute_result"
    },
    {
     "data": {
      "image/png": "[encoded data removed]",
      "text/plain": [
       "<Figure size 800x550 with 1 Axes>"
      ]
     },
     "metadata": {},
     "output_type": "display_data"
    }
   ],
   "source": [
    "sns.countplot(data=df_train, x='HomePlanet', hue='VIP')"
   ]
  },
  {
   "cell_type": "code",
   "execution_count": 17,
   "id": "2603ad50",
   "metadata": {
    "execution": {
     "iopub.execute_input": "2023-07-22T02:43:44.166544Z",
     "iopub.status.busy": "2023-07-22T02:43:44.166178Z",
     "iopub.status.idle": "2023-07-22T02:43:45.664838Z",
     "shell.execute_reply": "2023-07-22T02:43:45.663624Z"
    },
    "papermill": {
     "duration": 1.538517,
     "end_time": "2023-07-22T02:43:45.668135",
     "exception": false,
     "start_time": "2023-07-22T02:43:44.129618",
     "status": "completed"
    },
    "tags": []
   },
   "outputs": [
    {
     "data": {
      "text/plain": [
       "<Figure size 500x500 with 0 Axes>"
      ]
     },
     "metadata": {},
     "output_type": "display_data"
    },
    {
     "data": {
      "image/png": "[encoded data removed]",
      "text/plain": [
       "<Figure size 500x500 with 1 Axes>"
      ]
     },
     "metadata": {},
     "output_type": "display_data"
    },
    {
     "data": {
      "text/plain": [
       "<Figure size 500x500 with 0 Axes>"
      ]
     },
     "metadata": {},
     "output_type": "display_data"
    },
    {
     "data": {
      "text/plain": [
       "<Figure size 500x500 with 0 Axes>"
      ]
     },
     "metadata": {},
     "output_type": "display_data"
    },
    {
     "data": {
      "image/png": "[encoded data removed]",
      "text/plain": [
       "<Figure size 500x500 with 1 Axes>"
      ]
     },
     "metadata": {},
     "output_type": "display_data"
    },
    {
     "data": {
      "image/png": "[encoded data removed]",
      "text/plain": [
       "<Figure size 500x500 with 1 Axes>"
      ]
     },
     "metadata": {},
     "output_type": "display_data"
    },
    {
     "data": {
      "text/plain": [
       "<Figure size 500x500 with 0 Axes>"
      ]
     },
     "metadata": {},
     "output_type": "display_data"
    },
    {
     "data": {
      "text/plain": [
       "<AxesSubplot:ylabel='Density'>"
      ]
     },
     "execution_count": 17,
     "metadata": {},
     "output_type": "execute_result"
    },
    {
     "data": {
      "text/plain": [
       "<Figure size 500x500 with 0 Axes>"
      ]
     },
     "metadata": {},
     "output_type": "display_data"
    },
    {
     "data": {
      "text/plain": [
       "<Figure size 500x500 with 0 Axes>"
      ]
     },
     "metadata": {},
     "output_type": "display_data"
    },
    {
     "data": {
      "text/plain": [
       "<Figure size 500x500 with 0 Axes>"
      ]
     },
     "metadata": {},
     "output_type": "display_data"
    },
    {
     "data": {
      "text/plain": [
       "<Figure size 500x500 with 0 Axes>"
      ]
     },
     "metadata": {},
     "output_type": "display_data"
    },
    {
     "data": {
      "text/plain": [
       "<Figure size 500x500 with 0 Axes>"
      ]
     },
     "metadata": {},
     "output_type": "display_data"
    },
    {
     "data": {
      "image/png": "[encoded data removed]",
      "text/plain": [
       "<Figure size 500x500 with 1 Axes>"
      ]
     },
     "metadata": {},
     "output_type": "display_data"
    }
   ],
   "source": [
    "cols = [col for col in df_train.columns if col !='Transported']\n",
    "skip = ['RoomService', 'FoodCourt', 'ShoppingMall', 'Spa', 'VRDeck', 'PassengerId', 'Name', 'Cabin']\n",
    "\n",
    "for col in cols:\n",
    "    plt.figure(figsize=(5,5))\n",
    "    if col in skip:\n",
    "        continue\n",
    "    elif df_train[col].dtypes==object:\n",
    "        sns.countplot(data=df_train, x=col, hue='Transported')\n",
    "    elif df_train[col].dtypes==float:\n",
    "        sns.histplot(df_train[col])\n",
    "    plt.show()\n",
    "data = df_train[['RoomService', 'FoodCourt', 'ShoppingMall', 'Spa', 'VRDeck']]\n",
    "sns.kdeplot(data=data)"
   ]
  },
  {
   "cell_type": "markdown",
   "id": "cc1e9d59",
   "metadata": {
    "papermill": {
     "duration": 0.035152,
     "end_time": "2023-07-22T02:43:45.739498",
     "exception": false,
     "start_time": "2023-07-22T02:43:45.704346",
     "status": "completed"
    },
    "tags": []
   },
   "source": [
    "# Feature Engineering"
   ]
  },
  {
   "cell_type": "code",
   "execution_count": 18,
   "id": "f93e62cb",
   "metadata": {
    "execution": {
     "iopub.execute_input": "2023-07-22T02:43:45.814313Z",
     "iopub.status.busy": "2023-07-22T02:43:45.813206Z",
     "iopub.status.idle": "2023-07-22T02:43:45.833326Z",
     "shell.execute_reply": "2023-07-22T02:43:45.832093Z"
    },
    "papermill": {
     "duration": 0.060111,
     "end_time": "2023-07-22T02:43:45.836014",
     "exception": false,
     "start_time": "2023-07-22T02:43:45.775903",
     "status": "completed"
    },
    "tags": []
   },
   "outputs": [
    {
     "data": {
      "text/html": [
       "<div>\n",
       "<style scoped>\n",
       "    .dataframe tbody tr th:only-of-type {\n",
       "        vertical-align: middle;\n",
       "    }\n",
       "\n",
       "    .dataframe tbody tr th {\n",
       "        vertical-align: top;\n",
       "    }\n",
       "\n",
       "    .dataframe thead th {\n",
       "        text-align: right;\n",
       "    }\n",
       "</style>\n",
       "<table border=\"1\" class=\"dataframe\">\n",
       "  <thead>\n",
       "    <tr style=\"text-align: right;\">\n",
       "      <th></th>\n",
       "      <th>PassengerId</th>\n",
       "      <th>HomePlanet</th>\n",
       "      <th>CryoSleep</th>\n",
       "      <th>Cabin</th>\n",
       "      <th>Destination</th>\n",
       "      <th>Age</th>\n",
       "      <th>VIP</th>\n",
       "      <th>RoomService</th>\n",
       "      <th>FoodCourt</th>\n",
       "      <th>ShoppingMall</th>\n",
       "      <th>Spa</th>\n",
       "      <th>VRDeck</th>\n",
       "      <th>Name</th>\n",
       "      <th>Transported</th>\n",
       "    </tr>\n",
       "  </thead>\n",
       "  <tbody>\n",
       "    <tr>\n",
       "      <th>0</th>\n",
       "      <td>0001_01</td>\n",
       "      <td>Europa</td>\n",
       "      <td>False</td>\n",
       "      <td>B/0/P</td>\n",
       "      <td>TRAPPIST-1e</td>\n",
       "      <td>39.0</td>\n",
       "      <td>False</td>\n",
       "      <td>0.0</td>\n",
       "      <td>0.0</td>\n",
       "      <td>0.0</td>\n",
       "      <td>0.0</td>\n",
       "      <td>0.0</td>\n",
       "      <td>Maham Ofracculy</td>\n",
       "      <td>False</td>\n",
       "    </tr>\n",
       "    <tr>\n",
       "      <th>1</th>\n",
       "      <td>0002_01</td>\n",
       "      <td>Earth</td>\n",
       "      <td>False</td>\n",
       "      <td>F/0/S</td>\n",
       "      <td>TRAPPIST-1e</td>\n",
       "      <td>24.0</td>\n",
       "      <td>False</td>\n",
       "      <td>109.0</td>\n",
       "      <td>9.0</td>\n",
       "      <td>25.0</td>\n",
       "      <td>549.0</td>\n",
       "      <td>44.0</td>\n",
       "      <td>Juanna Vines</td>\n",
       "      <td>True</td>\n",
       "    </tr>\n",
       "  </tbody>\n",
       "</table>\n",
       "</div>"
      ],
      "text/plain": [
       "  PassengerId HomePlanet  CryoSleep  Cabin  Destination   Age    VIP  \\\n",
       "0     0001_01     Europa      False  B/0/P  TRAPPIST-1e  39.0  False   \n",
       "1     0002_01      Earth      False  F/0/S  TRAPPIST-1e  24.0  False   \n",
       "\n",
       "   RoomService  FoodCourt  ShoppingMall    Spa  VRDeck             Name  \\\n",
       "0          0.0        0.0           0.0    0.0     0.0  Maham Ofracculy   \n",
       "1        109.0        9.0          25.0  549.0    44.0     Juanna Vines   \n",
       "\n",
       "   Transported  \n",
       "0        False  \n",
       "1         True  "
      ]
     },
     "execution_count": 18,
     "metadata": {},
     "output_type": "execute_result"
    }
   ],
   "source": [
    "df_train.head(2)"
   ]
  },
  {
   "cell_type": "markdown",
   "id": "c65e5760",
   "metadata": {
    "papermill": {
     "duration": 0.035433,
     "end_time": "2023-07-22T02:43:45.909277",
     "exception": false,
     "start_time": "2023-07-22T02:43:45.873844",
     "status": "completed"
    },
    "tags": []
   },
   "source": [
    "## Transform Data"
   ]
  },
  {
   "cell_type": "code",
   "execution_count": 19,
   "id": "7b5bcc7f",
   "metadata": {
    "execution": {
     "iopub.execute_input": "2023-07-22T02:43:45.983338Z",
     "iopub.status.busy": "2023-07-22T02:43:45.982924Z",
     "iopub.status.idle": "2023-07-22T02:43:45.994679Z",
     "shell.execute_reply": "2023-07-22T02:43:45.993603Z"
    },
    "papermill": {
     "duration": 0.051649,
     "end_time": "2023-07-22T02:43:45.997171",
     "exception": false,
     "start_time": "2023-07-22T02:43:45.945522",
     "status": "completed"
    },
    "tags": []
   },
   "outputs": [],
   "source": [
    "def transform_cryosleep(row):\n",
    "    if row==False:\n",
    "        return 0\n",
    "    else:\n",
    "        return 1\n",
    "    \n",
    "def transform_vip(row):\n",
    "    if row==False:\n",
    "        return 0\n",
    "    else:\n",
    "        return 1\n",
    "    \n",
    "# create new feature: group, it will be extracted from the 4 first id in PassengerId\n",
    "def extract_group(df):\n",
    "    df = df.copy()\n",
    "    df['group'] = df['PassengerId'].str.split(\"_\").str.get(0)\n",
    "    df['group'] = df['group'].astype(int)\n",
    "    return df\n",
    "\n",
    "# transform cabin column into its own value (deck, num, side)\n",
    "def transform_cabin(df):\n",
    "    df = df.copy()\n",
    "    cabin = df['Cabin'].str.split(\"/\", expand=True)\n",
    "    cabin.columns = ['cabin_deck', 'cabin_num', 'cabin_side']\n",
    "    cabin['cabin_num'] = cabin['cabin_num'].astype(int)\n",
    "    df = pd.concat([df, cabin], axis=1)\n",
    "    df = df.drop('Cabin', axis=1)\n",
    "    return df\n",
    "    \n",
    "def transform(df):\n",
    "    df = df.copy()\n",
    "    df['CryoSleep'] = df['CryoSleep'].apply(transform_cryosleep)\n",
    "    df['VIP'] = df['VIP'].apply(transform_vip)\n",
    "    df = extract_group(df)\n",
    "    df = transform_cabin(df)\n",
    "    return df"
   ]
  },
  {
   "cell_type": "code",
   "execution_count": 20,
   "id": "2cf8e999",
   "metadata": {
    "execution": {
     "iopub.execute_input": "2023-07-22T02:43:46.072927Z",
     "iopub.status.busy": "2023-07-22T02:43:46.071933Z",
     "iopub.status.idle": "2023-07-22T02:43:46.391836Z",
     "shell.execute_reply": "2023-07-22T02:43:46.390580Z"
    },
    "papermill": {
     "duration": 0.362569,
     "end_time": "2023-07-22T02:43:46.395373",
     "exception": false,
     "start_time": "2023-07-22T02:43:46.032804",
     "status": "completed"
    },
    "tags": []
   },
   "outputs": [],
   "source": [
    "df_train = transform(df_train)\n",
    "df_test = transform(df_test)"
   ]
  },
  {
   "cell_type": "code",
   "execution_count": 21,
   "id": "71199f4f",
   "metadata": {
    "execution": {
     "iopub.execute_input": "2023-07-22T02:43:46.470080Z",
     "iopub.status.busy": "2023-07-22T02:43:46.469732Z",
     "iopub.status.idle": "2023-07-22T02:43:46.493258Z",
     "shell.execute_reply": "2023-07-22T02:43:46.492153Z"
    },
    "papermill": {
     "duration": 0.06342,
     "end_time": "2023-07-22T02:43:46.495800",
     "exception": false,
     "start_time": "2023-07-22T02:43:46.432380",
     "status": "completed"
    },
    "tags": []
   },
   "outputs": [
    {
     "data": {
      "text/html": [
       "<div>\n",
       "<style scoped>\n",
       "    .dataframe tbody tr th:only-of-type {\n",
       "        vertical-align: middle;\n",
       "    }\n",
       "\n",
       "    .dataframe tbody tr th {\n",
       "        vertical-align: top;\n",
       "    }\n",
       "\n",
       "    .dataframe thead th {\n",
       "        text-align: right;\n",
       "    }\n",
       "</style>\n",
       "<table border=\"1\" class=\"dataframe\">\n",
       "  <thead>\n",
       "    <tr style=\"text-align: right;\">\n",
       "      <th></th>\n",
       "      <th>PassengerId</th>\n",
       "      <th>HomePlanet</th>\n",
       "      <th>CryoSleep</th>\n",
       "      <th>Destination</th>\n",
       "      <th>Age</th>\n",
       "      <th>VIP</th>\n",
       "      <th>RoomService</th>\n",
       "      <th>FoodCourt</th>\n",
       "      <th>ShoppingMall</th>\n",
       "      <th>Spa</th>\n",
       "      <th>VRDeck</th>\n",
       "      <th>Name</th>\n",
       "      <th>Transported</th>\n",
       "      <th>group</th>\n",
       "      <th>cabin_deck</th>\n",
       "      <th>cabin_num</th>\n",
       "      <th>cabin_side</th>\n",
       "    </tr>\n",
       "  </thead>\n",
       "  <tbody>\n",
       "    <tr>\n",
       "      <th>0</th>\n",
       "      <td>0001_01</td>\n",
       "      <td>Europa</td>\n",
       "      <td>0</td>\n",
       "      <td>TRAPPIST-1e</td>\n",
       "      <td>39.0</td>\n",
       "      <td>0</td>\n",
       "      <td>0.0</td>\n",
       "      <td>0.0</td>\n",
       "      <td>0.0</td>\n",
       "      <td>0.0</td>\n",
       "      <td>0.0</td>\n",
       "      <td>Maham Ofracculy</td>\n",
       "      <td>False</td>\n",
       "      <td>1</td>\n",
       "      <td>B</td>\n",
       "      <td>0</td>\n",
       "      <td>P</td>\n",
       "    </tr>\n",
       "    <tr>\n",
       "      <th>1</th>\n",
       "      <td>0002_01</td>\n",
       "      <td>Earth</td>\n",
       "      <td>0</td>\n",
       "      <td>TRAPPIST-1e</td>\n",
       "      <td>24.0</td>\n",
       "      <td>0</td>\n",
       "      <td>109.0</td>\n",
       "      <td>9.0</td>\n",
       "      <td>25.0</td>\n",
       "      <td>549.0</td>\n",
       "      <td>44.0</td>\n",
       "      <td>Juanna Vines</td>\n",
       "      <td>True</td>\n",
       "      <td>2</td>\n",
       "      <td>F</td>\n",
       "      <td>0</td>\n",
       "      <td>S</td>\n",
       "    </tr>\n",
       "    <tr>\n",
       "      <th>2</th>\n",
       "      <td>0003_01</td>\n",
       "      <td>Europa</td>\n",
       "      <td>0</td>\n",
       "      <td>TRAPPIST-1e</td>\n",
       "      <td>58.0</td>\n",
       "      <td>1</td>\n",
       "      <td>43.0</td>\n",
       "      <td>3576.0</td>\n",
       "      <td>0.0</td>\n",
       "      <td>6715.0</td>\n",
       "      <td>49.0</td>\n",
       "      <td>Altark Susent</td>\n",
       "      <td>False</td>\n",
       "      <td>3</td>\n",
       "      <td>A</td>\n",
       "      <td>0</td>\n",
       "      <td>S</td>\n",
       "    </tr>\n",
       "    <tr>\n",
       "      <th>3</th>\n",
       "      <td>0003_02</td>\n",
       "      <td>Europa</td>\n",
       "      <td>0</td>\n",
       "      <td>TRAPPIST-1e</td>\n",
       "      <td>33.0</td>\n",
       "      <td>0</td>\n",
       "      <td>0.0</td>\n",
       "      <td>1283.0</td>\n",
       "      <td>371.0</td>\n",
       "      <td>3329.0</td>\n",
       "      <td>193.0</td>\n",
       "      <td>Solam Susent</td>\n",
       "      <td>False</td>\n",
       "      <td>3</td>\n",
       "      <td>A</td>\n",
       "      <td>0</td>\n",
       "      <td>S</td>\n",
       "    </tr>\n",
       "    <tr>\n",
       "      <th>4</th>\n",
       "      <td>0004_01</td>\n",
       "      <td>Earth</td>\n",
       "      <td>0</td>\n",
       "      <td>TRAPPIST-1e</td>\n",
       "      <td>16.0</td>\n",
       "      <td>0</td>\n",
       "      <td>303.0</td>\n",
       "      <td>70.0</td>\n",
       "      <td>151.0</td>\n",
       "      <td>565.0</td>\n",
       "      <td>2.0</td>\n",
       "      <td>Willy Santantines</td>\n",
       "      <td>True</td>\n",
       "      <td>4</td>\n",
       "      <td>F</td>\n",
       "      <td>1</td>\n",
       "      <td>S</td>\n",
       "    </tr>\n",
       "  </tbody>\n",
       "</table>\n",
       "</div>"
      ],
      "text/plain": [
       "  PassengerId HomePlanet  CryoSleep  Destination   Age  VIP  RoomService  \\\n",
       "0     0001_01     Europa          0  TRAPPIST-1e  39.0    0          0.0   \n",
       "1     0002_01      Earth          0  TRAPPIST-1e  24.0    0        109.0   \n",
       "2     0003_01     Europa          0  TRAPPIST-1e  58.0    1         43.0   \n",
       "3     0003_02     Europa          0  TRAPPIST-1e  33.0    0          0.0   \n",
       "4     0004_01      Earth          0  TRAPPIST-1e  16.0    0        303.0   \n",
       "\n",
       "   FoodCourt  ShoppingMall     Spa  VRDeck               Name  Transported  \\\n",
       "0        0.0           0.0     0.0     0.0    Maham Ofracculy        False   \n",
       "1        9.0          25.0   549.0    44.0       Juanna Vines         True   \n",
       "2     3576.0           0.0  6715.0    49.0      Altark Susent        False   \n",
       "3     1283.0         371.0  3329.0   193.0       Solam Susent        False   \n",
       "4       70.0         151.0   565.0     2.0  Willy Santantines         True   \n",
       "\n",
       "   group cabin_deck  cabin_num cabin_side  \n",
       "0      1          B          0          P  \n",
       "1      2          F          0          S  \n",
       "2      3          A          0          S  \n",
       "3      3          A          0          S  \n",
       "4      4          F          1          S  "
      ]
     },
     "execution_count": 21,
     "metadata": {},
     "output_type": "execute_result"
    }
   ],
   "source": [
    "df_train.head()"
   ]
  },
  {
   "cell_type": "markdown",
   "id": "9734ecd6",
   "metadata": {
    "papermill": {
     "duration": 0.036119,
     "end_time": "2023-07-22T02:43:46.570422",
     "exception": false,
     "start_time": "2023-07-22T02:43:46.534303",
     "status": "completed"
    },
    "tags": []
   },
   "source": [
    "## Encoding and Scaling"
   ]
  },
  {
   "cell_type": "markdown",
   "id": "8cf7c1f3",
   "metadata": {
    "papermill": {
     "duration": 0.035912,
     "end_time": "2023-07-22T02:43:46.643085",
     "exception": false,
     "start_time": "2023-07-22T02:43:46.607173",
     "status": "completed"
    },
    "tags": []
   },
   "source": [
    "### one hot encoding"
   ]
  },
  {
   "cell_type": "code",
   "execution_count": 22,
   "id": "5fcf38b9",
   "metadata": {
    "execution": {
     "iopub.execute_input": "2023-07-22T02:43:46.717558Z",
     "iopub.status.busy": "2023-07-22T02:43:46.716361Z",
     "iopub.status.idle": "2023-07-22T02:43:46.723040Z",
     "shell.execute_reply": "2023-07-22T02:43:46.722322Z"
    },
    "papermill": {
     "duration": 0.046246,
     "end_time": "2023-07-22T02:43:46.725166",
     "exception": false,
     "start_time": "2023-07-22T02:43:46.678920",
     "status": "completed"
    },
    "tags": []
   },
   "outputs": [],
   "source": [
    "def one_hot_encoding(df):\n",
    "    df = df.copy()\n",
    "    ohe_cols = ['HomePlanet', 'Destination', 'cabin_side', 'cabin_deck']\n",
    "    df_encoded = pd.get_dummies(df, columns=ohe_cols)\n",
    "    df = pd.concat([df, df_encoded], axis=1)\n",
    "    df = df.drop(columns=ohe_cols, axis=1)\n",
    "    return df"
   ]
  },
  {
   "cell_type": "code",
   "execution_count": 23,
   "id": "14dffb45",
   "metadata": {
    "execution": {
     "iopub.execute_input": "2023-07-22T02:43:46.800948Z",
     "iopub.status.busy": "2023-07-22T02:43:46.800587Z",
     "iopub.status.idle": "2023-07-22T02:43:46.841562Z",
     "shell.execute_reply": "2023-07-22T02:43:46.840376Z"
    },
    "papermill": {
     "duration": 0.082618,
     "end_time": "2023-07-22T02:43:46.844588",
     "exception": false,
     "start_time": "2023-07-22T02:43:46.761970",
     "status": "completed"
    },
    "tags": []
   },
   "outputs": [],
   "source": [
    "df_train = one_hot_encoding(df_train)\n",
    "df_test = one_hot_encoding(df_test)"
   ]
  },
  {
   "cell_type": "markdown",
   "id": "5abc232d",
   "metadata": {
    "papermill": {
     "duration": 0.035899,
     "end_time": "2023-07-22T02:43:46.917240",
     "exception": false,
     "start_time": "2023-07-22T02:43:46.881341",
     "status": "completed"
    },
    "tags": []
   },
   "source": [
    "### Min Max Scaling"
   ]
  },
  {
   "cell_type": "code",
   "execution_count": 24,
   "id": "94b7905b",
   "metadata": {
    "execution": {
     "iopub.execute_input": "2023-07-22T02:43:46.991172Z",
     "iopub.status.busy": "2023-07-22T02:43:46.990815Z",
     "iopub.status.idle": "2023-07-22T02:43:46.996774Z",
     "shell.execute_reply": "2023-07-22T02:43:46.995725Z"
    },
    "papermill": {
     "duration": 0.046059,
     "end_time": "2023-07-22T02:43:46.999244",
     "exception": false,
     "start_time": "2023-07-22T02:43:46.953185",
     "status": "completed"
    },
    "tags": []
   },
   "outputs": [],
   "source": [
    "from sklearn.preprocessing import MinMaxScaler\n",
    "\n",
    "def minmax_scaling(df):\n",
    "    df = df.copy()\n",
    "    scaling_cols = ['Age', 'RoomService', 'FoodCourt', 'ShoppingMall', 'Spa', 'VRDeck']\n",
    "    scaler = MinMaxScaler()\n",
    "    df[scaling_cols] = scaler.fit_transform(df[scaling_cols])\n",
    "    return df"
   ]
  },
  {
   "cell_type": "code",
   "execution_count": 25,
   "id": "0034dbdf",
   "metadata": {
    "execution": {
     "iopub.execute_input": "2023-07-22T02:43:47.074276Z",
     "iopub.status.busy": "2023-07-22T02:43:47.073981Z",
     "iopub.status.idle": "2023-07-22T02:43:47.090988Z",
     "shell.execute_reply": "2023-07-22T02:43:47.090055Z"
    },
    "papermill": {
     "duration": 0.058269,
     "end_time": "2023-07-22T02:43:47.093425",
     "exception": false,
     "start_time": "2023-07-22T02:43:47.035156",
     "status": "completed"
    },
    "tags": []
   },
   "outputs": [],
   "source": [
    "df_train = minmax_scaling(df_train)\n",
    "df_test = minmax_scaling(df_test)"
   ]
  },
  {
   "cell_type": "markdown",
   "id": "58eed578",
   "metadata": {
    "papermill": {
     "duration": 0.03579,
     "end_time": "2023-07-22T02:43:47.165361",
     "exception": false,
     "start_time": "2023-07-22T02:43:47.129571",
     "status": "completed"
    },
    "tags": []
   },
   "source": [
    "### Set PassengerId as Index"
   ]
  },
  {
   "cell_type": "code",
   "execution_count": 26,
   "id": "9352fb39",
   "metadata": {
    "execution": {
     "iopub.execute_input": "2023-07-22T02:43:47.240311Z",
     "iopub.status.busy": "2023-07-22T02:43:47.239327Z",
     "iopub.status.idle": "2023-07-22T02:43:47.247448Z",
     "shell.execute_reply": "2023-07-22T02:43:47.246322Z"
    },
    "papermill": {
     "duration": 0.047894,
     "end_time": "2023-07-22T02:43:47.249679",
     "exception": false,
     "start_time": "2023-07-22T02:43:47.201785",
     "status": "completed"
    },
    "tags": []
   },
   "outputs": [
    {
     "data": {
      "text/plain": [
       "Index(['PassengerId', 'CryoSleep', 'Age', 'VIP', 'RoomService', 'FoodCourt',\n",
       "       'ShoppingMall', 'Spa', 'VRDeck', 'Name', 'Transported', 'group',\n",
       "       'cabin_num', 'PassengerId', 'CryoSleep', 'Age', 'VIP', 'RoomService',\n",
       "       'FoodCourt', 'ShoppingMall', 'Spa', 'VRDeck', 'Name', 'Transported',\n",
       "       'group', 'cabin_num', 'HomePlanet_Earth', 'HomePlanet_Europa',\n",
       "       'HomePlanet_Mars', 'Destination_55 Cancri e',\n",
       "       'Destination_PSO J318.5-22', 'Destination_TRAPPIST-1e', 'cabin_side_P',\n",
       "       'cabin_side_S', 'cabin_deck_A', 'cabin_deck_B', 'cabin_deck_C',\n",
       "       'cabin_deck_D', 'cabin_deck_E', 'cabin_deck_F', 'cabin_deck_G',\n",
       "       'cabin_deck_T'],\n",
       "      dtype='object')"
      ]
     },
     "execution_count": 26,
     "metadata": {},
     "output_type": "execute_result"
    }
   ],
   "source": [
    "df_train.columns"
   ]
  },
  {
   "cell_type": "markdown",
   "id": "6a348ea4",
   "metadata": {
    "papermill": {
     "duration": 0.036972,
     "end_time": "2023-07-22T02:43:47.323576",
     "exception": false,
     "start_time": "2023-07-22T02:43:47.286604",
     "status": "completed"
    },
    "tags": []
   },
   "source": [
    "remove duplicated columns"
   ]
  },
  {
   "cell_type": "code",
   "execution_count": 27,
   "id": "e6b25f90",
   "metadata": {
    "execution": {
     "iopub.execute_input": "2023-07-22T02:43:47.399877Z",
     "iopub.status.busy": "2023-07-22T02:43:47.398951Z",
     "iopub.status.idle": "2023-07-22T02:43:47.407737Z",
     "shell.execute_reply": "2023-07-22T02:43:47.406746Z"
    },
    "papermill": {
     "duration": 0.049112,
     "end_time": "2023-07-22T02:43:47.410427",
     "exception": false,
     "start_time": "2023-07-22T02:43:47.361315",
     "status": "completed"
    },
    "tags": []
   },
   "outputs": [],
   "source": [
    "df_train = df_train.loc[:,~df_train.columns.duplicated()].copy()\n",
    "df_test = df_test.loc[:,~df_test.columns.duplicated()].copy()"
   ]
  },
  {
   "cell_type": "code",
   "execution_count": 28,
   "id": "ea3ce6a3",
   "metadata": {
    "execution": {
     "iopub.execute_input": "2023-07-22T02:43:47.483869Z",
     "iopub.status.busy": "2023-07-22T02:43:47.483533Z",
     "iopub.status.idle": "2023-07-22T02:43:47.490478Z",
     "shell.execute_reply": "2023-07-22T02:43:47.489458Z"
    },
    "papermill": {
     "duration": 0.046643,
     "end_time": "2023-07-22T02:43:47.492705",
     "exception": false,
     "start_time": "2023-07-22T02:43:47.446062",
     "status": "completed"
    },
    "tags": []
   },
   "outputs": [
    {
     "data": {
      "text/plain": [
       "Index(['PassengerId', 'CryoSleep', 'Age', 'VIP', 'RoomService', 'FoodCourt',\n",
       "       'ShoppingMall', 'Spa', 'VRDeck', 'Name', 'Transported', 'group',\n",
       "       'cabin_num', 'HomePlanet_Earth', 'HomePlanet_Europa', 'HomePlanet_Mars',\n",
       "       'Destination_55 Cancri e', 'Destination_PSO J318.5-22',\n",
       "       'Destination_TRAPPIST-1e', 'cabin_side_P', 'cabin_side_S',\n",
       "       'cabin_deck_A', 'cabin_deck_B', 'cabin_deck_C', 'cabin_deck_D',\n",
       "       'cabin_deck_E', 'cabin_deck_F', 'cabin_deck_G', 'cabin_deck_T'],\n",
       "      dtype='object')"
      ]
     },
     "execution_count": 28,
     "metadata": {},
     "output_type": "execute_result"
    }
   ],
   "source": [
    "df_train.columns"
   ]
  },
  {
   "cell_type": "code",
   "execution_count": 29,
   "id": "952c103a",
   "metadata": {
    "execution": {
     "iopub.execute_input": "2023-07-22T02:43:47.568525Z",
     "iopub.status.busy": "2023-07-22T02:43:47.566899Z",
     "iopub.status.idle": "2023-07-22T02:43:47.575303Z",
     "shell.execute_reply": "2023-07-22T02:43:47.574321Z"
    },
    "papermill": {
     "duration": 0.048709,
     "end_time": "2023-07-22T02:43:47.577742",
     "exception": false,
     "start_time": "2023-07-22T02:43:47.529033",
     "status": "completed"
    },
    "tags": []
   },
   "outputs": [],
   "source": [
    "df_train = df_train.set_index('PassengerId')\n",
    "df_test = df_test.set_index('PassengerId')"
   ]
  },
  {
   "cell_type": "code",
   "execution_count": 30,
   "id": "59a68f88",
   "metadata": {
    "execution": {
     "iopub.execute_input": "2023-07-22T02:43:47.653356Z",
     "iopub.status.busy": "2023-07-22T02:43:47.651772Z",
     "iopub.status.idle": "2023-07-22T02:43:47.674875Z",
     "shell.execute_reply": "2023-07-22T02:43:47.673755Z"
    },
    "papermill": {
     "duration": 0.062258,
     "end_time": "2023-07-22T02:43:47.677283",
     "exception": false,
     "start_time": "2023-07-22T02:43:47.615025",
     "status": "completed"
    },
    "tags": []
   },
   "outputs": [
    {
     "data": {
      "text/html": [
       "<div>\n",
       "<style scoped>\n",
       "    .dataframe tbody tr th:only-of-type {\n",
       "        vertical-align: middle;\n",
       "    }\n",
       "\n",
       "    .dataframe tbody tr th {\n",
       "        vertical-align: top;\n",
       "    }\n",
       "\n",
       "    .dataframe thead th {\n",
       "        text-align: right;\n",
       "    }\n",
       "</style>\n",
       "<table border=\"1\" class=\"dataframe\">\n",
       "  <thead>\n",
       "    <tr style=\"text-align: right;\">\n",
       "      <th></th>\n",
       "      <th>CryoSleep</th>\n",
       "      <th>Age</th>\n",
       "      <th>VIP</th>\n",
       "      <th>RoomService</th>\n",
       "      <th>FoodCourt</th>\n",
       "      <th>ShoppingMall</th>\n",
       "      <th>Spa</th>\n",
       "      <th>VRDeck</th>\n",
       "      <th>Name</th>\n",
       "      <th>Transported</th>\n",
       "      <th>...</th>\n",
       "      <th>cabin_side_P</th>\n",
       "      <th>cabin_side_S</th>\n",
       "      <th>cabin_deck_A</th>\n",
       "      <th>cabin_deck_B</th>\n",
       "      <th>cabin_deck_C</th>\n",
       "      <th>cabin_deck_D</th>\n",
       "      <th>cabin_deck_E</th>\n",
       "      <th>cabin_deck_F</th>\n",
       "      <th>cabin_deck_G</th>\n",
       "      <th>cabin_deck_T</th>\n",
       "    </tr>\n",
       "    <tr>\n",
       "      <th>PassengerId</th>\n",
       "      <th></th>\n",
       "      <th></th>\n",
       "      <th></th>\n",
       "      <th></th>\n",
       "      <th></th>\n",
       "      <th></th>\n",
       "      <th></th>\n",
       "      <th></th>\n",
       "      <th></th>\n",
       "      <th></th>\n",
       "      <th></th>\n",
       "      <th></th>\n",
       "      <th></th>\n",
       "      <th></th>\n",
       "      <th></th>\n",
       "      <th></th>\n",
       "      <th></th>\n",
       "      <th></th>\n",
       "      <th></th>\n",
       "      <th></th>\n",
       "      <th></th>\n",
       "    </tr>\n",
       "  </thead>\n",
       "  <tbody>\n",
       "    <tr>\n",
       "      <th>0001_01</th>\n",
       "      <td>0</td>\n",
       "      <td>0.493671</td>\n",
       "      <td>0</td>\n",
       "      <td>0.000000</td>\n",
       "      <td>0.000000</td>\n",
       "      <td>0.000000</td>\n",
       "      <td>0.00000</td>\n",
       "      <td>0.000000</td>\n",
       "      <td>Maham Ofracculy</td>\n",
       "      <td>False</td>\n",
       "      <td>...</td>\n",
       "      <td>1</td>\n",
       "      <td>0</td>\n",
       "      <td>0</td>\n",
       "      <td>1</td>\n",
       "      <td>0</td>\n",
       "      <td>0</td>\n",
       "      <td>0</td>\n",
       "      <td>0</td>\n",
       "      <td>0</td>\n",
       "      <td>0</td>\n",
       "    </tr>\n",
       "    <tr>\n",
       "      <th>0002_01</th>\n",
       "      <td>0</td>\n",
       "      <td>0.303797</td>\n",
       "      <td>0</td>\n",
       "      <td>0.007608</td>\n",
       "      <td>0.000302</td>\n",
       "      <td>0.001064</td>\n",
       "      <td>0.02450</td>\n",
       "      <td>0.001823</td>\n",
       "      <td>Juanna Vines</td>\n",
       "      <td>True</td>\n",
       "      <td>...</td>\n",
       "      <td>0</td>\n",
       "      <td>1</td>\n",
       "      <td>0</td>\n",
       "      <td>0</td>\n",
       "      <td>0</td>\n",
       "      <td>0</td>\n",
       "      <td>0</td>\n",
       "      <td>1</td>\n",
       "      <td>0</td>\n",
       "      <td>0</td>\n",
       "    </tr>\n",
       "    <tr>\n",
       "      <th>0003_01</th>\n",
       "      <td>0</td>\n",
       "      <td>0.734177</td>\n",
       "      <td>1</td>\n",
       "      <td>0.003001</td>\n",
       "      <td>0.119948</td>\n",
       "      <td>0.000000</td>\n",
       "      <td>0.29967</td>\n",
       "      <td>0.002030</td>\n",
       "      <td>Altark Susent</td>\n",
       "      <td>False</td>\n",
       "      <td>...</td>\n",
       "      <td>0</td>\n",
       "      <td>1</td>\n",
       "      <td>1</td>\n",
       "      <td>0</td>\n",
       "      <td>0</td>\n",
       "      <td>0</td>\n",
       "      <td>0</td>\n",
       "      <td>0</td>\n",
       "      <td>0</td>\n",
       "      <td>0</td>\n",
       "    </tr>\n",
       "  </tbody>\n",
       "</table>\n",
       "<p>3 rows × 28 columns</p>\n",
       "</div>"
      ],
      "text/plain": [
       "             CryoSleep       Age  VIP  RoomService  FoodCourt  ShoppingMall  \\\n",
       "PassengerId                                                                   \n",
       "0001_01              0  0.493671    0     0.000000   0.000000      0.000000   \n",
       "0002_01              0  0.303797    0     0.007608   0.000302      0.001064   \n",
       "0003_01              0  0.734177    1     0.003001   0.119948      0.000000   \n",
       "\n",
       "                 Spa    VRDeck             Name  Transported  ...  \\\n",
       "PassengerId                                                   ...   \n",
       "0001_01      0.00000  0.000000  Maham Ofracculy        False  ...   \n",
       "0002_01      0.02450  0.001823     Juanna Vines         True  ...   \n",
       "0003_01      0.29967  0.002030    Altark Susent        False  ...   \n",
       "\n",
       "             cabin_side_P  cabin_side_S  cabin_deck_A  cabin_deck_B  \\\n",
       "PassengerId                                                           \n",
       "0001_01                 1             0             0             1   \n",
       "0002_01                 0             1             0             0   \n",
       "0003_01                 0             1             1             0   \n",
       "\n",
       "             cabin_deck_C  cabin_deck_D  cabin_deck_E  cabin_deck_F  \\\n",
       "PassengerId                                                           \n",
       "0001_01                 0             0             0             0   \n",
       "0002_01                 0             0             0             1   \n",
       "0003_01                 0             0             0             0   \n",
       "\n",
       "             cabin_deck_G  cabin_deck_T  \n",
       "PassengerId                              \n",
       "0001_01                 0             0  \n",
       "0002_01                 0             0  \n",
       "0003_01                 0             0  \n",
       "\n",
       "[3 rows x 28 columns]"
      ]
     },
     "execution_count": 30,
     "metadata": {},
     "output_type": "execute_result"
    }
   ],
   "source": [
    "df_train.head(3)"
   ]
  },
  {
   "cell_type": "code",
   "execution_count": 31,
   "id": "c77c207f",
   "metadata": {
    "execution": {
     "iopub.execute_input": "2023-07-22T02:43:47.754612Z",
     "iopub.status.busy": "2023-07-22T02:43:47.753007Z",
     "iopub.status.idle": "2023-07-22T02:43:47.776814Z",
     "shell.execute_reply": "2023-07-22T02:43:47.775601Z"
    },
    "papermill": {
     "duration": 0.064338,
     "end_time": "2023-07-22T02:43:47.779331",
     "exception": false,
     "start_time": "2023-07-22T02:43:47.714993",
     "status": "completed"
    },
    "tags": []
   },
   "outputs": [
    {
     "data": {
      "text/html": [
       "<div>\n",
       "<style scoped>\n",
       "    .dataframe tbody tr th:only-of-type {\n",
       "        vertical-align: middle;\n",
       "    }\n",
       "\n",
       "    .dataframe tbody tr th {\n",
       "        vertical-align: top;\n",
       "    }\n",
       "\n",
       "    .dataframe thead th {\n",
       "        text-align: right;\n",
       "    }\n",
       "</style>\n",
       "<table border=\"1\" class=\"dataframe\">\n",
       "  <thead>\n",
       "    <tr style=\"text-align: right;\">\n",
       "      <th></th>\n",
       "      <th>CryoSleep</th>\n",
       "      <th>Age</th>\n",
       "      <th>VIP</th>\n",
       "      <th>RoomService</th>\n",
       "      <th>FoodCourt</th>\n",
       "      <th>ShoppingMall</th>\n",
       "      <th>Spa</th>\n",
       "      <th>VRDeck</th>\n",
       "      <th>Name</th>\n",
       "      <th>group</th>\n",
       "      <th>...</th>\n",
       "      <th>cabin_side_P</th>\n",
       "      <th>cabin_side_S</th>\n",
       "      <th>cabin_deck_A</th>\n",
       "      <th>cabin_deck_B</th>\n",
       "      <th>cabin_deck_C</th>\n",
       "      <th>cabin_deck_D</th>\n",
       "      <th>cabin_deck_E</th>\n",
       "      <th>cabin_deck_F</th>\n",
       "      <th>cabin_deck_G</th>\n",
       "      <th>cabin_deck_T</th>\n",
       "    </tr>\n",
       "    <tr>\n",
       "      <th>PassengerId</th>\n",
       "      <th></th>\n",
       "      <th></th>\n",
       "      <th></th>\n",
       "      <th></th>\n",
       "      <th></th>\n",
       "      <th></th>\n",
       "      <th></th>\n",
       "      <th></th>\n",
       "      <th></th>\n",
       "      <th></th>\n",
       "      <th></th>\n",
       "      <th></th>\n",
       "      <th></th>\n",
       "      <th></th>\n",
       "      <th></th>\n",
       "      <th></th>\n",
       "      <th></th>\n",
       "      <th></th>\n",
       "      <th></th>\n",
       "      <th></th>\n",
       "      <th></th>\n",
       "    </tr>\n",
       "  </thead>\n",
       "  <tbody>\n",
       "    <tr>\n",
       "      <th>0013_01</th>\n",
       "      <td>1</td>\n",
       "      <td>0.341772</td>\n",
       "      <td>0</td>\n",
       "      <td>0.0</td>\n",
       "      <td>0.000000</td>\n",
       "      <td>0.0</td>\n",
       "      <td>0.00000</td>\n",
       "      <td>0.0</td>\n",
       "      <td>Nelly Carsoning</td>\n",
       "      <td>13</td>\n",
       "      <td>...</td>\n",
       "      <td>0</td>\n",
       "      <td>1</td>\n",
       "      <td>0</td>\n",
       "      <td>0</td>\n",
       "      <td>0</td>\n",
       "      <td>0</td>\n",
       "      <td>0</td>\n",
       "      <td>0</td>\n",
       "      <td>1</td>\n",
       "      <td>0</td>\n",
       "    </tr>\n",
       "    <tr>\n",
       "      <th>0018_01</th>\n",
       "      <td>0</td>\n",
       "      <td>0.240506</td>\n",
       "      <td>0</td>\n",
       "      <td>0.0</td>\n",
       "      <td>0.000356</td>\n",
       "      <td>0.0</td>\n",
       "      <td>0.14226</td>\n",
       "      <td>0.0</td>\n",
       "      <td>Lerome Peckers</td>\n",
       "      <td>18</td>\n",
       "      <td>...</td>\n",
       "      <td>0</td>\n",
       "      <td>1</td>\n",
       "      <td>0</td>\n",
       "      <td>0</td>\n",
       "      <td>0</td>\n",
       "      <td>0</td>\n",
       "      <td>0</td>\n",
       "      <td>1</td>\n",
       "      <td>0</td>\n",
       "      <td>0</td>\n",
       "    </tr>\n",
       "    <tr>\n",
       "      <th>0019_01</th>\n",
       "      <td>1</td>\n",
       "      <td>0.392405</td>\n",
       "      <td>0</td>\n",
       "      <td>0.0</td>\n",
       "      <td>0.000000</td>\n",
       "      <td>0.0</td>\n",
       "      <td>0.00000</td>\n",
       "      <td>0.0</td>\n",
       "      <td>Sabih Unhearfus</td>\n",
       "      <td>19</td>\n",
       "      <td>...</td>\n",
       "      <td>0</td>\n",
       "      <td>1</td>\n",
       "      <td>0</td>\n",
       "      <td>0</td>\n",
       "      <td>1</td>\n",
       "      <td>0</td>\n",
       "      <td>0</td>\n",
       "      <td>0</td>\n",
       "      <td>0</td>\n",
       "      <td>0</td>\n",
       "    </tr>\n",
       "  </tbody>\n",
       "</table>\n",
       "<p>3 rows × 27 columns</p>\n",
       "</div>"
      ],
      "text/plain": [
       "             CryoSleep       Age  VIP  RoomService  FoodCourt  ShoppingMall  \\\n",
       "PassengerId                                                                   \n",
       "0013_01              1  0.341772    0          0.0   0.000000           0.0   \n",
       "0018_01              0  0.240506    0          0.0   0.000356           0.0   \n",
       "0019_01              1  0.392405    0          0.0   0.000000           0.0   \n",
       "\n",
       "                 Spa  VRDeck             Name  group  ...  cabin_side_P  \\\n",
       "PassengerId                                           ...                 \n",
       "0013_01      0.00000     0.0  Nelly Carsoning     13  ...             0   \n",
       "0018_01      0.14226     0.0   Lerome Peckers     18  ...             0   \n",
       "0019_01      0.00000     0.0  Sabih Unhearfus     19  ...             0   \n",
       "\n",
       "             cabin_side_S  cabin_deck_A  cabin_deck_B  cabin_deck_C  \\\n",
       "PassengerId                                                           \n",
       "0013_01                 1             0             0             0   \n",
       "0018_01                 1             0             0             0   \n",
       "0019_01                 1             0             0             1   \n",
       "\n",
       "             cabin_deck_D  cabin_deck_E  cabin_deck_F  cabin_deck_G  \\\n",
       "PassengerId                                                           \n",
       "0013_01                 0             0             0             1   \n",
       "0018_01                 0             0             1             0   \n",
       "0019_01                 0             0             0             0   \n",
       "\n",
       "             cabin_deck_T  \n",
       "PassengerId                \n",
       "0013_01                 0  \n",
       "0018_01                 0  \n",
       "0019_01                 0  \n",
       "\n",
       "[3 rows x 27 columns]"
      ]
     },
     "execution_count": 31,
     "metadata": {},
     "output_type": "execute_result"
    }
   ],
   "source": [
    "df_test.head(3)"
   ]
  },
  {
   "cell_type": "markdown",
   "id": "10835468",
   "metadata": {
    "papermill": {
     "duration": 0.036494,
     "end_time": "2023-07-22T02:43:47.852944",
     "exception": false,
     "start_time": "2023-07-22T02:43:47.816450",
     "status": "completed"
    },
    "tags": []
   },
   "source": [
    "### Transform Target Variable into Numerical (Transported)"
   ]
  },
  {
   "cell_type": "code",
   "execution_count": 32,
   "id": "cbc588aa",
   "metadata": {
    "execution": {
     "iopub.execute_input": "2023-07-22T02:43:47.928251Z",
     "iopub.status.busy": "2023-07-22T02:43:47.927866Z",
     "iopub.status.idle": "2023-07-22T02:43:47.933225Z",
     "shell.execute_reply": "2023-07-22T02:43:47.932091Z"
    },
    "papermill": {
     "duration": 0.045862,
     "end_time": "2023-07-22T02:43:47.935547",
     "exception": false,
     "start_time": "2023-07-22T02:43:47.889685",
     "status": "completed"
    },
    "tags": []
   },
   "outputs": [],
   "source": [
    "def transform_transported(row):\n",
    "    if row==True:\n",
    "        return 1\n",
    "    else:\n",
    "        return 0"
   ]
  },
  {
   "cell_type": "code",
   "execution_count": 33,
   "id": "ce467289",
   "metadata": {
    "execution": {
     "iopub.execute_input": "2023-07-22T02:43:48.011359Z",
     "iopub.status.busy": "2023-07-22T02:43:48.010350Z",
     "iopub.status.idle": "2023-07-22T02:43:48.039572Z",
     "shell.execute_reply": "2023-07-22T02:43:48.038449Z"
    },
    "papermill": {
     "duration": 0.069845,
     "end_time": "2023-07-22T02:43:48.041980",
     "exception": false,
     "start_time": "2023-07-22T02:43:47.972135",
     "status": "completed"
    },
    "tags": []
   },
   "outputs": [
    {
     "data": {
      "text/html": [
       "<div>\n",
       "<style scoped>\n",
       "    .dataframe tbody tr th:only-of-type {\n",
       "        vertical-align: middle;\n",
       "    }\n",
       "\n",
       "    .dataframe tbody tr th {\n",
       "        vertical-align: top;\n",
       "    }\n",
       "\n",
       "    .dataframe thead th {\n",
       "        text-align: right;\n",
       "    }\n",
       "</style>\n",
       "<table border=\"1\" class=\"dataframe\">\n",
       "  <thead>\n",
       "    <tr style=\"text-align: right;\">\n",
       "      <th></th>\n",
       "      <th>CryoSleep</th>\n",
       "      <th>Age</th>\n",
       "      <th>VIP</th>\n",
       "      <th>RoomService</th>\n",
       "      <th>FoodCourt</th>\n",
       "      <th>ShoppingMall</th>\n",
       "      <th>Spa</th>\n",
       "      <th>VRDeck</th>\n",
       "      <th>Name</th>\n",
       "      <th>Transported</th>\n",
       "      <th>...</th>\n",
       "      <th>cabin_side_P</th>\n",
       "      <th>cabin_side_S</th>\n",
       "      <th>cabin_deck_A</th>\n",
       "      <th>cabin_deck_B</th>\n",
       "      <th>cabin_deck_C</th>\n",
       "      <th>cabin_deck_D</th>\n",
       "      <th>cabin_deck_E</th>\n",
       "      <th>cabin_deck_F</th>\n",
       "      <th>cabin_deck_G</th>\n",
       "      <th>cabin_deck_T</th>\n",
       "    </tr>\n",
       "    <tr>\n",
       "      <th>PassengerId</th>\n",
       "      <th></th>\n",
       "      <th></th>\n",
       "      <th></th>\n",
       "      <th></th>\n",
       "      <th></th>\n",
       "      <th></th>\n",
       "      <th></th>\n",
       "      <th></th>\n",
       "      <th></th>\n",
       "      <th></th>\n",
       "      <th></th>\n",
       "      <th></th>\n",
       "      <th></th>\n",
       "      <th></th>\n",
       "      <th></th>\n",
       "      <th></th>\n",
       "      <th></th>\n",
       "      <th></th>\n",
       "      <th></th>\n",
       "      <th></th>\n",
       "      <th></th>\n",
       "    </tr>\n",
       "  </thead>\n",
       "  <tbody>\n",
       "    <tr>\n",
       "      <th>0001_01</th>\n",
       "      <td>0</td>\n",
       "      <td>0.493671</td>\n",
       "      <td>0</td>\n",
       "      <td>0.000000</td>\n",
       "      <td>0.000000</td>\n",
       "      <td>0.000000</td>\n",
       "      <td>0.00000</td>\n",
       "      <td>0.000000</td>\n",
       "      <td>Maham Ofracculy</td>\n",
       "      <td>0</td>\n",
       "      <td>...</td>\n",
       "      <td>1</td>\n",
       "      <td>0</td>\n",
       "      <td>0</td>\n",
       "      <td>1</td>\n",
       "      <td>0</td>\n",
       "      <td>0</td>\n",
       "      <td>0</td>\n",
       "      <td>0</td>\n",
       "      <td>0</td>\n",
       "      <td>0</td>\n",
       "    </tr>\n",
       "    <tr>\n",
       "      <th>0002_01</th>\n",
       "      <td>0</td>\n",
       "      <td>0.303797</td>\n",
       "      <td>0</td>\n",
       "      <td>0.007608</td>\n",
       "      <td>0.000302</td>\n",
       "      <td>0.001064</td>\n",
       "      <td>0.02450</td>\n",
       "      <td>0.001823</td>\n",
       "      <td>Juanna Vines</td>\n",
       "      <td>1</td>\n",
       "      <td>...</td>\n",
       "      <td>0</td>\n",
       "      <td>1</td>\n",
       "      <td>0</td>\n",
       "      <td>0</td>\n",
       "      <td>0</td>\n",
       "      <td>0</td>\n",
       "      <td>0</td>\n",
       "      <td>1</td>\n",
       "      <td>0</td>\n",
       "      <td>0</td>\n",
       "    </tr>\n",
       "    <tr>\n",
       "      <th>0003_01</th>\n",
       "      <td>0</td>\n",
       "      <td>0.734177</td>\n",
       "      <td>1</td>\n",
       "      <td>0.003001</td>\n",
       "      <td>0.119948</td>\n",
       "      <td>0.000000</td>\n",
       "      <td>0.29967</td>\n",
       "      <td>0.002030</td>\n",
       "      <td>Altark Susent</td>\n",
       "      <td>0</td>\n",
       "      <td>...</td>\n",
       "      <td>0</td>\n",
       "      <td>1</td>\n",
       "      <td>1</td>\n",
       "      <td>0</td>\n",
       "      <td>0</td>\n",
       "      <td>0</td>\n",
       "      <td>0</td>\n",
       "      <td>0</td>\n",
       "      <td>0</td>\n",
       "      <td>0</td>\n",
       "    </tr>\n",
       "  </tbody>\n",
       "</table>\n",
       "<p>3 rows × 28 columns</p>\n",
       "</div>"
      ],
      "text/plain": [
       "             CryoSleep       Age  VIP  RoomService  FoodCourt  ShoppingMall  \\\n",
       "PassengerId                                                                   \n",
       "0001_01              0  0.493671    0     0.000000   0.000000      0.000000   \n",
       "0002_01              0  0.303797    0     0.007608   0.000302      0.001064   \n",
       "0003_01              0  0.734177    1     0.003001   0.119948      0.000000   \n",
       "\n",
       "                 Spa    VRDeck             Name  Transported  ...  \\\n",
       "PassengerId                                                   ...   \n",
       "0001_01      0.00000  0.000000  Maham Ofracculy            0  ...   \n",
       "0002_01      0.02450  0.001823     Juanna Vines            1  ...   \n",
       "0003_01      0.29967  0.002030    Altark Susent            0  ...   \n",
       "\n",
       "             cabin_side_P  cabin_side_S  cabin_deck_A  cabin_deck_B  \\\n",
       "PassengerId                                                           \n",
       "0001_01                 1             0             0             1   \n",
       "0002_01                 0             1             0             0   \n",
       "0003_01                 0             1             1             0   \n",
       "\n",
       "             cabin_deck_C  cabin_deck_D  cabin_deck_E  cabin_deck_F  \\\n",
       "PassengerId                                                           \n",
       "0001_01                 0             0             0             0   \n",
       "0002_01                 0             0             0             1   \n",
       "0003_01                 0             0             0             0   \n",
       "\n",
       "             cabin_deck_G  cabin_deck_T  \n",
       "PassengerId                              \n",
       "0001_01                 0             0  \n",
       "0002_01                 0             0  \n",
       "0003_01                 0             0  \n",
       "\n",
       "[3 rows x 28 columns]"
      ]
     },
     "execution_count": 33,
     "metadata": {},
     "output_type": "execute_result"
    }
   ],
   "source": [
    "df_train['Transported'] = df_train['Transported'].apply(transform_transported)\n",
    "df_train.head(3)"
   ]
  },
  {
   "cell_type": "markdown",
   "id": "10fc1e33",
   "metadata": {
    "papermill": {
     "duration": 0.037071,
     "end_time": "2023-07-22T02:43:48.118593",
     "exception": false,
     "start_time": "2023-07-22T02:43:48.081522",
     "status": "completed"
    },
    "tags": []
   },
   "source": [
    "# Modelling"
   ]
  },
  {
   "cell_type": "code",
   "execution_count": 34,
   "id": "0fa0f02d",
   "metadata": {
    "execution": {
     "iopub.execute_input": "2023-07-22T02:43:48.194832Z",
     "iopub.status.busy": "2023-07-22T02:43:48.194482Z",
     "iopub.status.idle": "2023-07-22T02:43:48.201830Z",
     "shell.execute_reply": "2023-07-22T02:43:48.200789Z"
    },
    "papermill": {
     "duration": 0.048519,
     "end_time": "2023-07-22T02:43:48.204090",
     "exception": false,
     "start_time": "2023-07-22T02:43:48.155571",
     "status": "completed"
    },
    "tags": []
   },
   "outputs": [
    {
     "data": {
      "text/plain": [
       "Index(['CryoSleep', 'Age', 'VIP', 'RoomService', 'FoodCourt', 'ShoppingMall',\n",
       "       'Spa', 'VRDeck', 'Name', 'Transported', 'group', 'cabin_num',\n",
       "       'HomePlanet_Earth', 'HomePlanet_Europa', 'HomePlanet_Mars',\n",
       "       'Destination_55 Cancri e', 'Destination_PSO J318.5-22',\n",
       "       'Destination_TRAPPIST-1e', 'cabin_side_P', 'cabin_side_S',\n",
       "       'cabin_deck_A', 'cabin_deck_B', 'cabin_deck_C', 'cabin_deck_D',\n",
       "       'cabin_deck_E', 'cabin_deck_F', 'cabin_deck_G', 'cabin_deck_T'],\n",
       "      dtype='object')"
      ]
     },
     "execution_count": 34,
     "metadata": {},
     "output_type": "execute_result"
    }
   ],
   "source": [
    "df_train.columns"
   ]
  },
  {
   "cell_type": "code",
   "execution_count": 35,
   "id": "ebc69f41",
   "metadata": {
    "execution": {
     "iopub.execute_input": "2023-07-22T02:43:48.281115Z",
     "iopub.status.busy": "2023-07-22T02:43:48.280250Z",
     "iopub.status.idle": "2023-07-22T02:43:48.288034Z",
     "shell.execute_reply": "2023-07-22T02:43:48.287052Z"
    },
    "papermill": {
     "duration": 0.049091,
     "end_time": "2023-07-22T02:43:48.290335",
     "exception": false,
     "start_time": "2023-07-22T02:43:48.241244",
     "status": "completed"
    },
    "tags": []
   },
   "outputs": [],
   "source": [
    "# not in features 1\n",
    "skip = ['Name', 'Transported']\n",
    "\n",
    "# not in features 2\n",
    "skip2 = skip + [col for col in df_train.columns if col.startswith('Destination')]\n",
    "skip2 = skip2 + [col for col in df_train.columns if col.startswith('HomePlanet')]\n",
    "\n",
    "# not in features 3\n",
    "skip3 = skip2 + [col for col in df_train.columns if col.startswith('cabin')]\n",
    "\n",
    "# not in features 4\n",
    "skip4 = skip2 + [col for col in df_train.columns if col not in ['RoomService', 'FoodCourt', 'ShoppingMall', 'Spa', 'VRDeck']]"
   ]
  },
  {
   "cell_type": "code",
   "execution_count": 36,
   "id": "c803ea33",
   "metadata": {
    "execution": {
     "iopub.execute_input": "2023-07-22T02:43:48.366344Z",
     "iopub.status.busy": "2023-07-22T02:43:48.365745Z",
     "iopub.status.idle": "2023-07-22T02:43:48.372262Z",
     "shell.execute_reply": "2023-07-22T02:43:48.371055Z"
    },
    "papermill": {
     "duration": 0.047132,
     "end_time": "2023-07-22T02:43:48.374618",
     "exception": false,
     "start_time": "2023-07-22T02:43:48.327486",
     "status": "completed"
    },
    "tags": []
   },
   "outputs": [],
   "source": [
    "features = [col for col in df_train.columns if col not in skip]\n",
    "features2 = [col for col in df_train.columns if col not in skip2]\n",
    "features3 = [col for col in df_train.columns if col not in skip3]\n",
    "features4 = [col for col in df_train.columns if col not in skip4]\n",
    "\n",
    "target = 'Transported'"
   ]
  },
  {
   "cell_type": "code",
   "execution_count": 37,
   "id": "980330d8",
   "metadata": {
    "execution": {
     "iopub.execute_input": "2023-07-22T02:43:48.450488Z",
     "iopub.status.busy": "2023-07-22T02:43:48.449627Z",
     "iopub.status.idle": "2023-07-22T02:43:48.460361Z",
     "shell.execute_reply": "2023-07-22T02:43:48.459387Z"
    },
    "papermill": {
     "duration": 0.051206,
     "end_time": "2023-07-22T02:43:48.462717",
     "exception": false,
     "start_time": "2023-07-22T02:43:48.411511",
     "status": "completed"
    },
    "tags": []
   },
   "outputs": [],
   "source": [
    "X_train, X_val, y_train, y_val = train_test_split(df_train[features2], df_train[target], test_size=0.2)"
   ]
  },
  {
   "cell_type": "markdown",
   "id": "c5d53610",
   "metadata": {
    "papermill": {
     "duration": 0.037459,
     "end_time": "2023-07-22T02:43:48.536887",
     "exception": false,
     "start_time": "2023-07-22T02:43:48.499428",
     "status": "completed"
    },
    "tags": []
   },
   "source": [
    "## PyCaret (Base Model Comparison)"
   ]
  },
  {
   "cell_type": "code",
   "execution_count": 38,
   "id": "5f69c6b8",
   "metadata": {
    "execution": {
     "iopub.execute_input": "2023-07-22T02:43:48.613291Z",
     "iopub.status.busy": "2023-07-22T02:43:48.612345Z",
     "iopub.status.idle": "2023-07-22T02:43:48.617192Z",
     "shell.execute_reply": "2023-07-22T02:43:48.616118Z"
    },
    "papermill": {
     "duration": 0.04576,
     "end_time": "2023-07-22T02:43:48.619551",
     "exception": false,
     "start_time": "2023-07-22T02:43:48.573791",
     "status": "completed"
    },
    "tags": []
   },
   "outputs": [],
   "source": [
    "# exp = ClassificationExperiment()\n",
    "# exp.setup(df_train, target='Transported', session_id=123)"
   ]
  },
  {
   "cell_type": "code",
   "execution_count": 39,
   "id": "93c43af0",
   "metadata": {
    "execution": {
     "iopub.execute_input": "2023-07-22T02:43:48.696452Z",
     "iopub.status.busy": "2023-07-22T02:43:48.694767Z",
     "iopub.status.idle": "2023-07-22T02:43:48.699757Z",
     "shell.execute_reply": "2023-07-22T02:43:48.698730Z"
    },
    "papermill": {
     "duration": 0.045518,
     "end_time": "2023-07-22T02:43:48.702142",
     "exception": false,
     "start_time": "2023-07-22T02:43:48.656624",
     "status": "completed"
    },
    "tags": []
   },
   "outputs": [],
   "source": [
    "# compare baseline model\n",
    "# exp.compare_models()"
   ]
  },
  {
   "cell_type": "markdown",
   "id": "60c52ab8",
   "metadata": {
    "papermill": {
     "duration": 0.037504,
     "end_time": "2023-07-22T02:43:48.777226",
     "exception": false,
     "start_time": "2023-07-22T02:43:48.739722",
     "status": "completed"
    },
    "tags": []
   },
   "source": [
    "## Optuna (Hyperparameter Tuning)"
   ]
  },
  {
   "cell_type": "code",
   "execution_count": 40,
   "id": "b98fa596",
   "metadata": {
    "execution": {
     "iopub.execute_input": "2023-07-22T02:43:48.852818Z",
     "iopub.status.busy": "2023-07-22T02:43:48.852494Z",
     "iopub.status.idle": "2023-07-22T02:43:48.859326Z",
     "shell.execute_reply": "2023-07-22T02:43:48.858140Z"
    },
    "papermill": {
     "duration": 0.047689,
     "end_time": "2023-07-22T02:43:48.861735",
     "exception": false,
     "start_time": "2023-07-22T02:43:48.814046",
     "status": "completed"
    },
    "tags": []
   },
   "outputs": [],
   "source": [
    "X = df_train[features2]\n",
    "y = df_train[target]\n",
    "\n",
    "kfolds = KFold(n_splits=5, shuffle=True, random_state=123)"
   ]
  },
  {
   "cell_type": "code",
   "execution_count": 41,
   "id": "31968d23",
   "metadata": {
    "execution": {
     "iopub.execute_input": "2023-07-22T02:43:48.938492Z",
     "iopub.status.busy": "2023-07-22T02:43:48.937889Z",
     "iopub.status.idle": "2023-07-22T02:43:48.943986Z",
     "shell.execute_reply": "2023-07-22T02:43:48.942743Z"
    },
    "papermill": {
     "duration": 0.046956,
     "end_time": "2023-07-22T02:43:48.946382",
     "exception": false,
     "start_time": "2023-07-22T02:43:48.899426",
     "status": "completed"
    },
    "tags": []
   },
   "outputs": [],
   "source": [
    "def tune(objective):\n",
    "    study = optuna.create_study(direction=\"maximize\")\n",
    "    study.optimize(objective, n_trials=100)\n",
    "\n",
    "    params = study.best_params\n",
    "    best_score = study.best_value\n",
    "    print(f\"Best score: {best_score}\\n\")\n",
    "    print(f\"Optimized parameters: {params}\\n\")\n",
    "    return params"
   ]
  },
  {
   "cell_type": "markdown",
   "id": "bc8ab81d",
   "metadata": {
    "papermill": {
     "duration": 0.037468,
     "end_time": "2023-07-22T02:43:49.021520",
     "exception": false,
     "start_time": "2023-07-22T02:43:48.984052",
     "status": "completed"
    },
    "tags": []
   },
   "source": [
    "### Logistic Regression"
   ]
  },
  {
   "cell_type": "code",
   "execution_count": 42,
   "id": "bc7fa40f",
   "metadata": {
    "execution": {
     "iopub.execute_input": "2023-07-22T02:43:49.102432Z",
     "iopub.status.busy": "2023-07-22T02:43:49.101779Z",
     "iopub.status.idle": "2023-07-22T02:43:49.254795Z",
     "shell.execute_reply": "2023-07-22T02:43:49.253479Z"
    },
    "papermill": {
     "duration": 0.198396,
     "end_time": "2023-07-22T02:43:49.258223",
     "exception": false,
     "start_time": "2023-07-22T02:43:49.059827",
     "status": "completed"
    },
    "tags": []
   },
   "outputs": [
    {
     "data": {
      "text/plain": [
       "LogisticRegression()"
      ]
     },
     "execution_count": 42,
     "metadata": {},
     "output_type": "execute_result"
    }
   ],
   "source": [
    "lr = LogisticRegression()\n",
    "lr.fit(X_train, y_train)"
   ]
  },
  {
   "cell_type": "code",
   "execution_count": 43,
   "id": "65d7b83d",
   "metadata": {
    "execution": {
     "iopub.execute_input": "2023-07-22T02:43:49.401079Z",
     "iopub.status.busy": "2023-07-22T02:43:49.399825Z",
     "iopub.status.idle": "2023-07-22T02:43:49.406719Z",
     "shell.execute_reply": "2023-07-22T02:43:49.405641Z"
    },
    "papermill": {
     "duration": 0.068396,
     "end_time": "2023-07-22T02:43:49.409034",
     "exception": false,
     "start_time": "2023-07-22T02:43:49.340638",
     "status": "completed"
    },
    "tags": []
   },
   "outputs": [],
   "source": [
    "def logreg_objective(trial):\n",
    "    _tol = trial.suggest_float(\"tol\", 1e-6, 1e-1)\n",
    "    lr = LogisticRegression(tol=_tol, random_state=123)\n",
    "    scores = cross_val_score(\n",
    "        lr,\n",
    "        X, y,\n",
    "        cv=kfolds,\n",
    "        scoring=\"neg_root_mean_squared_error\"\n",
    "    )\n",
    "    return scores.mean()\n",
    "\n",
    "# lr_params = tune(logreg_objective)\n",
    "# lr = LogisticRegression(**lr_params, random_state=123)\n",
    "# lr.fit(X_train, y_train)"
   ]
  },
  {
   "cell_type": "markdown",
   "id": "1e487a93",
   "metadata": {
    "papermill": {
     "duration": 0.037086,
     "end_time": "2023-07-22T02:43:49.483481",
     "exception": false,
     "start_time": "2023-07-22T02:43:49.446395",
     "status": "completed"
    },
    "tags": []
   },
   "source": [
    "### Catboost Classifier"
   ]
  },
  {
   "cell_type": "code",
   "execution_count": 44,
   "id": "dd0d89bb",
   "metadata": {
    "execution": {
     "iopub.execute_input": "2023-07-22T02:43:49.560208Z",
     "iopub.status.busy": "2023-07-22T02:43:49.559160Z",
     "iopub.status.idle": "2023-07-22T02:44:11.842371Z",
     "shell.execute_reply": "2023-07-22T02:44:11.841260Z"
    },
    "papermill": {
     "duration": 22.324336,
     "end_time": "2023-07-22T02:44:11.844882",
     "exception": false,
     "start_time": "2023-07-22T02:43:49.520546",
     "status": "completed"
    },
    "tags": []
   },
   "outputs": [
    {
     "data": {
      "text/plain": [
       "<catboost.core.CatBoostClassifier at 0x7a7772fc29d0>"
      ]
     },
     "execution_count": 44,
     "metadata": {},
     "output_type": "execute_result"
    }
   ],
   "source": [
    "cbc = cb.CatBoostClassifier(learning_rate=0.005, depth=10)\n",
    "cbc.fit(X_train, y_train, verbose=0)"
   ]
  },
  {
   "cell_type": "code",
   "execution_count": 45,
   "id": "97c893bd",
   "metadata": {
    "execution": {
     "iopub.execute_input": "2023-07-22T02:44:11.922569Z",
     "iopub.status.busy": "2023-07-22T02:44:11.921612Z",
     "iopub.status.idle": "2023-07-22T02:44:11.928098Z",
     "shell.execute_reply": "2023-07-22T02:44:11.927074Z"
    },
    "papermill": {
     "duration": 0.047745,
     "end_time": "2023-07-22T02:44:11.930668",
     "exception": false,
     "start_time": "2023-07-22T02:44:11.882923",
     "status": "completed"
    },
    "tags": []
   },
   "outputs": [],
   "source": [
    "params = {\n",
    "    'learning_rate': [0.001, 0.005, 0.03, 0.1],\n",
    "    'depth': [4, 6, 10, 15],\n",
    "    'l2_leaf_reg': [1, 3, 5, 7, 9]\n",
    "}\n",
    "\n",
    "# grid_search_result = cbc.grid_search(\n",
    "#     params,\n",
    "#     X=X_train,\n",
    "#     y=y_train,\n",
    "#     cv=5,\n",
    "#     verbose=False\n",
    "# )"
   ]
  },
  {
   "cell_type": "code",
   "execution_count": 46,
   "id": "073d2ccd",
   "metadata": {
    "execution": {
     "iopub.execute_input": "2023-07-22T02:44:12.010231Z",
     "iopub.status.busy": "2023-07-22T02:44:12.008140Z",
     "iopub.status.idle": "2023-07-22T02:44:12.015995Z",
     "shell.execute_reply": "2023-07-22T02:44:12.014947Z"
    },
    "papermill": {
     "duration": 0.049571,
     "end_time": "2023-07-22T02:44:12.018353",
     "exception": false,
     "start_time": "2023-07-22T02:44:11.968782",
     "status": "completed"
    },
    "tags": []
   },
   "outputs": [],
   "source": [
    "def cbc_objective(trial):\n",
    "    _learning_rate = trial.suggest_float(\"learning_rate\", 1e-6, 1e-1)\n",
    "    _depth = trial.suggest_int(\"depth\", 4, 20)\n",
    "    cbc = cb.CatBoostClassifier(\n",
    "        learning_rate=_learning_rate, \n",
    "        \n",
    "        random_state=123\n",
    "    )\n",
    "    scores = cross_val_score(\n",
    "        cbc,\n",
    "        X, y,\n",
    "        cv=kfolds,\n",
    "        scoring=\"neg_root_mean_squared_error\"\n",
    "    )\n",
    "    return scores.mean()\n",
    "\n",
    "# cbc_params = tune(cbc_objective)\n",
    "# cbc = CatBoostClassifier(**cbc_params, random_state=123)\n",
    "# cbc.fit(X_train, y_train, verbose=0)"
   ]
  },
  {
   "cell_type": "markdown",
   "id": "d131e138",
   "metadata": {
    "papermill": {
     "duration": 0.038133,
     "end_time": "2023-07-22T02:44:12.094022",
     "exception": false,
     "start_time": "2023-07-22T02:44:12.055889",
     "status": "completed"
    },
    "tags": []
   },
   "source": [
    "### XGBoost Classifier"
   ]
  },
  {
   "cell_type": "code",
   "execution_count": 47,
   "id": "e9674efc",
   "metadata": {
    "execution": {
     "iopub.execute_input": "2023-07-22T02:44:12.173706Z",
     "iopub.status.busy": "2023-07-22T02:44:12.171820Z",
     "iopub.status.idle": "2023-07-22T02:44:13.049318Z",
     "shell.execute_reply": "2023-07-22T02:44:13.048387Z"
    },
    "papermill": {
     "duration": 0.91947,
     "end_time": "2023-07-22T02:44:13.051972",
     "exception": false,
     "start_time": "2023-07-22T02:44:12.132502",
     "status": "completed"
    },
    "tags": []
   },
   "outputs": [
    {
     "data": {
      "text/plain": [
       "XGBClassifier(base_score=0.5, booster='gbtree', callbacks=None,\n",
       "              colsample_bylevel=1, colsample_bynode=1, colsample_bytree=1,\n",
       "              early_stopping_rounds=None, enable_categorical=False,\n",
       "              eval_metric=None, gamma=0, gpu_id=-1, grow_policy='depthwise',\n",
       "              importance_type=None, interaction_constraints='',\n",
       "              learning_rate=0.300000012, max_bin=256, max_cat_to_onehot=4,\n",
       "              max_delta_step=0, max_depth=6, max_leaves=0, min_child_weight=1,\n",
       "              missing=nan, monotone_constraints='()', n_estimators=100,\n",
       "              n_jobs=0, num_parallel_tree=1, predictor='auto', random_state=0,\n",
       "              reg_alpha=0, reg_lambda=1, ...)"
      ]
     },
     "execution_count": 47,
     "metadata": {},
     "output_type": "execute_result"
    }
   ],
   "source": [
    "xgbc = xgb.XGBClassifier()\n",
    "xgbc.fit(X_train, y_train)"
   ]
  },
  {
   "cell_type": "markdown",
   "id": "7f555649",
   "metadata": {
    "papermill": {
     "duration": 0.038032,
     "end_time": "2023-07-22T02:44:13.128924",
     "exception": false,
     "start_time": "2023-07-22T02:44:13.090892",
     "status": "completed"
    },
    "tags": []
   },
   "source": [
    "### Random Forest Classifier"
   ]
  },
  {
   "cell_type": "code",
   "execution_count": 48,
   "id": "b6216825",
   "metadata": {
    "execution": {
     "iopub.execute_input": "2023-07-22T02:44:13.209194Z",
     "iopub.status.busy": "2023-07-22T02:44:13.208804Z",
     "iopub.status.idle": "2023-07-22T02:44:14.200561Z",
     "shell.execute_reply": "2023-07-22T02:44:14.195889Z"
    },
    "papermill": {
     "duration": 1.036076,
     "end_time": "2023-07-22T02:44:14.203256",
     "exception": false,
     "start_time": "2023-07-22T02:44:13.167180",
     "status": "completed"
    },
    "tags": []
   },
   "outputs": [
    {
     "data": {
      "text/plain": [
       "RandomForestClassifier()"
      ]
     },
     "execution_count": 48,
     "metadata": {},
     "output_type": "execute_result"
    }
   ],
   "source": [
    "rfc = RandomForestClassifier()\n",
    "rfc.fit(X_train, y_train)"
   ]
  },
  {
   "cell_type": "markdown",
   "id": "836c7e4d",
   "metadata": {
    "papermill": {
     "duration": 0.037425,
     "end_time": "2023-07-22T02:44:14.279083",
     "exception": false,
     "start_time": "2023-07-22T02:44:14.241658",
     "status": "completed"
    },
    "tags": []
   },
   "source": [
    "## Evaluation data_val"
   ]
  },
  {
   "cell_type": "code",
   "execution_count": 49,
   "id": "7a4fc58e",
   "metadata": {
    "execution": {
     "iopub.execute_input": "2023-07-22T02:44:14.356259Z",
     "iopub.status.busy": "2023-07-22T02:44:14.355362Z",
     "iopub.status.idle": "2023-07-22T02:44:14.361338Z",
     "shell.execute_reply": "2023-07-22T02:44:14.360312Z"
    },
    "papermill": {
     "duration": 0.046738,
     "end_time": "2023-07-22T02:44:14.363696",
     "exception": false,
     "start_time": "2023-07-22T02:44:14.316958",
     "status": "completed"
    },
    "tags": []
   },
   "outputs": [],
   "source": [
    "def evaluation(y_pred, y_true):\n",
    "    print(f'accuracy: {accuracy_score(y_true, y_pred)}\\n\\n')\n",
    "    print(f'confusion matrix:\\n{confusion_matrix(y_true, y_pred)}\\n\\n')\n",
    "    print(f'classification report:\\n{classification_report(y_true, y_pred)}')"
   ]
  },
  {
   "cell_type": "code",
   "execution_count": 50,
   "id": "4fe6af1b",
   "metadata": {
    "execution": {
     "iopub.execute_input": "2023-07-22T02:44:14.439787Z",
     "iopub.status.busy": "2023-07-22T02:44:14.439478Z",
     "iopub.status.idle": "2023-07-22T02:44:14.470037Z",
     "shell.execute_reply": "2023-07-22T02:44:14.468623Z"
    },
    "papermill": {
     "duration": 0.073224,
     "end_time": "2023-07-22T02:44:14.474452",
     "exception": false,
     "start_time": "2023-07-22T02:44:14.401228",
     "status": "completed"
    },
    "tags": []
   },
   "outputs": [
    {
     "name": "stdout",
     "output_type": "stream",
     "text": [
      "Logistic Regression (tuned with optuna)\n",
      "accuracy: 0.7251293847038528\n",
      "\n",
      "\n",
      "confusion matrix:\n",
      "[[688 147]\n",
      " [331 573]]\n",
      "\n",
      "\n",
      "classification report:\n",
      "              precision    recall  f1-score   support\n",
      "\n",
      "           0       0.68      0.82      0.74       835\n",
      "           1       0.80      0.63      0.71       904\n",
      "\n",
      "    accuracy                           0.73      1739\n",
      "   macro avg       0.74      0.73      0.72      1739\n",
      "weighted avg       0.74      0.73      0.72      1739\n",
      "\n"
     ]
    }
   ],
   "source": [
    "y_pred_lr = lr.predict(X_val)\n",
    "\n",
    "print(\"Logistic Regression (tuned with optuna)\")\n",
    "evaluation(y_pred_lr, y_val)"
   ]
  },
  {
   "cell_type": "code",
   "execution_count": 51,
   "id": "ed543728",
   "metadata": {
    "execution": {
     "iopub.execute_input": "2023-07-22T02:44:14.614066Z",
     "iopub.status.busy": "2023-07-22T02:44:14.613681Z",
     "iopub.status.idle": "2023-07-22T02:44:14.644489Z",
     "shell.execute_reply": "2023-07-22T02:44:14.642898Z"
    },
    "papermill": {
     "duration": 0.0792,
     "end_time": "2023-07-22T02:44:14.647010",
     "exception": false,
     "start_time": "2023-07-22T02:44:14.567810",
     "status": "completed"
    },
    "tags": []
   },
   "outputs": [
    {
     "name": "stdout",
     "output_type": "stream",
     "text": [
      "Catboost Classifier\n",
      "accuracy: 0.8159861989649224\n",
      "\n",
      "\n",
      "confusion matrix:\n",
      "[[662 173]\n",
      " [147 757]]\n",
      "\n",
      "\n",
      "classification report:\n",
      "              precision    recall  f1-score   support\n",
      "\n",
      "           0       0.82      0.79      0.81       835\n",
      "           1       0.81      0.84      0.83       904\n",
      "\n",
      "    accuracy                           0.82      1739\n",
      "   macro avg       0.82      0.82      0.82      1739\n",
      "weighted avg       0.82      0.82      0.82      1739\n",
      "\n"
     ]
    }
   ],
   "source": [
    "y_pred_cbc = cbc.predict(X_val)\n",
    "\n",
    "print(\"Catboost Classifier\")\n",
    "evaluation(y_pred_cbc, y_val)"
   ]
  },
  {
   "cell_type": "code",
   "execution_count": 52,
   "id": "03dd56aa",
   "metadata": {
    "execution": {
     "iopub.execute_input": "2023-07-22T02:44:14.759257Z",
     "iopub.status.busy": "2023-07-22T02:44:14.758759Z",
     "iopub.status.idle": "2023-07-22T02:44:14.785423Z",
     "shell.execute_reply": "2023-07-22T02:44:14.783881Z"
    },
    "papermill": {
     "duration": 0.095461,
     "end_time": "2023-07-22T02:44:14.787896",
     "exception": false,
     "start_time": "2023-07-22T02:44:14.692435",
     "status": "completed"
    },
    "tags": []
   },
   "outputs": [
    {
     "name": "stdout",
     "output_type": "stream",
     "text": [
      "XGBoost Classifier\n",
      "accuracy: 0.8039102932719954\n",
      "\n",
      "\n",
      "confusion matrix:\n",
      "[[673 162]\n",
      " [179 725]]\n",
      "\n",
      "\n",
      "classification report:\n",
      "              precision    recall  f1-score   support\n",
      "\n",
      "           0       0.79      0.81      0.80       835\n",
      "           1       0.82      0.80      0.81       904\n",
      "\n",
      "    accuracy                           0.80      1739\n",
      "   macro avg       0.80      0.80      0.80      1739\n",
      "weighted avg       0.80      0.80      0.80      1739\n",
      "\n"
     ]
    }
   ],
   "source": [
    "y_pred_xgbc = xgbc.predict(X_val)\n",
    "\n",
    "print(\"XGBoost Classifier\")\n",
    "evaluation(y_pred_xgbc, y_val)"
   ]
  },
  {
   "cell_type": "code",
   "execution_count": 53,
   "id": "638d6a87",
   "metadata": {
    "execution": {
     "iopub.execute_input": "2023-07-22T02:44:14.866309Z",
     "iopub.status.busy": "2023-07-22T02:44:14.865726Z",
     "iopub.status.idle": "2023-07-22T02:44:14.934214Z",
     "shell.execute_reply": "2023-07-22T02:44:14.932448Z"
    },
    "papermill": {
     "duration": 0.110155,
     "end_time": "2023-07-22T02:44:14.936865",
     "exception": false,
     "start_time": "2023-07-22T02:44:14.826710",
     "status": "completed"
    },
    "tags": []
   },
   "outputs": [
    {
     "name": "stdout",
     "output_type": "stream",
     "text": [
      "Random Forest Classifier\n",
      "accuracy: 0.7947096032202415\n",
      "\n",
      "\n",
      "confusion matrix:\n",
      "[[692 143]\n",
      " [214 690]]\n",
      "\n",
      "\n",
      "classification report:\n",
      "              precision    recall  f1-score   support\n",
      "\n",
      "           0       0.76      0.83      0.79       835\n",
      "           1       0.83      0.76      0.79       904\n",
      "\n",
      "    accuracy                           0.79      1739\n",
      "   macro avg       0.80      0.80      0.79      1739\n",
      "weighted avg       0.80      0.79      0.79      1739\n",
      "\n"
     ]
    }
   ],
   "source": [
    "y_pred_rfc = rfc.predict(X_val)\n",
    "\n",
    "print(\"Random Forest Classifier\")\n",
    "evaluation(y_pred_rfc, y_val)"
   ]
  },
  {
   "cell_type": "markdown",
   "id": "9047fdb5",
   "metadata": {
    "papermill": {
     "duration": 0.038101,
     "end_time": "2023-07-22T02:44:15.014880",
     "exception": false,
     "start_time": "2023-07-22T02:44:14.976779",
     "status": "completed"
    },
    "tags": []
   },
   "source": [
    "# Submission"
   ]
  },
  {
   "cell_type": "code",
   "execution_count": 54,
   "id": "b241a500",
   "metadata": {
    "execution": {
     "iopub.execute_input": "2023-07-22T02:44:15.094136Z",
     "iopub.status.busy": "2023-07-22T02:44:15.092820Z",
     "iopub.status.idle": "2023-07-22T02:44:15.120426Z",
     "shell.execute_reply": "2023-07-22T02:44:15.119374Z"
    },
    "papermill": {
     "duration": 0.069642,
     "end_time": "2023-07-22T02:44:15.122805",
     "exception": false,
     "start_time": "2023-07-22T02:44:15.053163",
     "status": "completed"
    },
    "tags": []
   },
   "outputs": [],
   "source": [
    "y_pred = cbc.predict(df_test[features2])\n",
    "\n",
    "prediction = pd.DataFrame({\n",
    "    'PassengerId': df_test.index,\n",
    "    'Transported': y_pred\n",
    "})"
   ]
  },
  {
   "cell_type": "code",
   "execution_count": 55,
   "id": "611d3dbc",
   "metadata": {
    "execution": {
     "iopub.execute_input": "2023-07-22T02:44:15.208203Z",
     "iopub.status.busy": "2023-07-22T02:44:15.207249Z",
     "iopub.status.idle": "2023-07-22T02:44:15.212867Z",
     "shell.execute_reply": "2023-07-22T02:44:15.211808Z"
    },
    "papermill": {
     "duration": 0.05415,
     "end_time": "2023-07-22T02:44:15.215589",
     "exception": false,
     "start_time": "2023-07-22T02:44:15.161439",
     "status": "completed"
    },
    "tags": []
   },
   "outputs": [],
   "source": [
    "def transform_result(row):\n",
    "    if row==1:\n",
    "        return True\n",
    "    return False"
   ]
  },
  {
   "cell_type": "code",
   "execution_count": 56,
   "id": "bad0067a",
   "metadata": {
    "execution": {
     "iopub.execute_input": "2023-07-22T02:44:15.293579Z",
     "iopub.status.busy": "2023-07-22T02:44:15.293245Z",
     "iopub.status.idle": "2023-07-22T02:44:15.307055Z",
     "shell.execute_reply": "2023-07-22T02:44:15.305844Z"
    },
    "papermill": {
     "duration": 0.05542,
     "end_time": "2023-07-22T02:44:15.309537",
     "exception": false,
     "start_time": "2023-07-22T02:44:15.254117",
     "status": "completed"
    },
    "tags": []
   },
   "outputs": [
    {
     "data": {
      "text/html": [
       "<div>\n",
       "<style scoped>\n",
       "    .dataframe tbody tr th:only-of-type {\n",
       "        vertical-align: middle;\n",
       "    }\n",
       "\n",
       "    .dataframe tbody tr th {\n",
       "        vertical-align: top;\n",
       "    }\n",
       "\n",
       "    .dataframe thead th {\n",
       "        text-align: right;\n",
       "    }\n",
       "</style>\n",
       "<table border=\"1\" class=\"dataframe\">\n",
       "  <thead>\n",
       "    <tr style=\"text-align: right;\">\n",
       "      <th></th>\n",
       "      <th>PassengerId</th>\n",
       "      <th>Transported</th>\n",
       "    </tr>\n",
       "  </thead>\n",
       "  <tbody>\n",
       "    <tr>\n",
       "      <th>0</th>\n",
       "      <td>0013_01</td>\n",
       "      <td>True</td>\n",
       "    </tr>\n",
       "    <tr>\n",
       "      <th>1</th>\n",
       "      <td>0018_01</td>\n",
       "      <td>False</td>\n",
       "    </tr>\n",
       "    <tr>\n",
       "      <th>2</th>\n",
       "      <td>0019_01</td>\n",
       "      <td>True</td>\n",
       "    </tr>\n",
       "    <tr>\n",
       "      <th>3</th>\n",
       "      <td>0021_01</td>\n",
       "      <td>True</td>\n",
       "    </tr>\n",
       "    <tr>\n",
       "      <th>4</th>\n",
       "      <td>0023_01</td>\n",
       "      <td>True</td>\n",
       "    </tr>\n",
       "  </tbody>\n",
       "</table>\n",
       "</div>"
      ],
      "text/plain": [
       "  PassengerId  Transported\n",
       "0     0013_01         True\n",
       "1     0018_01        False\n",
       "2     0019_01         True\n",
       "3     0021_01         True\n",
       "4     0023_01         True"
      ]
     },
     "execution_count": 56,
     "metadata": {},
     "output_type": "execute_result"
    }
   ],
   "source": [
    "prediction['Transported'] = prediction['Transported'].apply(transform_result)\n",
    "prediction.head()"
   ]
  },
  {
   "cell_type": "code",
   "execution_count": 57,
   "id": "90ad2b22",
   "metadata": {
    "execution": {
     "iopub.execute_input": "2023-07-22T02:44:15.387629Z",
     "iopub.status.busy": "2023-07-22T02:44:15.387319Z",
     "iopub.status.idle": "2023-07-22T02:44:15.401423Z",
     "shell.execute_reply": "2023-07-22T02:44:15.400442Z"
    },
    "papermill": {
     "duration": 0.055558,
     "end_time": "2023-07-22T02:44:15.403749",
     "exception": false,
     "start_time": "2023-07-22T02:44:15.348191",
     "status": "completed"
    },
    "tags": []
   },
   "outputs": [],
   "source": [
    "prediction.to_csv('submission.csv', index=False)"
   ]
  }
 ],
 "metadata": {
  "kernelspec": {
   "display_name": "Python 3",
   "language": "python",
   "name": "python3"
  },
  "language_info": {
   "codemirror_mode": {
    "name": "ipython",
    "version": 3
   },
   "file_extension": ".py",
   "mimetype": "text/x-python",
   "name": "python",
   "nbconvert_exporter": "python",
   "pygments_lexer": "ipython3",
   "version": "3.7.12"
  },
  "papermill": {
   "default_parameters": {},
   "duration": 140.855973,
   "end_time": "2023-07-22T02:44:16.865324",
   "environment_variables": {},
   "exception": null,
   "input_path": "__notebook__.ipynb",
   "output_path": "__notebook__.ipynb",
   "parameters": {},
   "start_time": "2023-07-22T02:41:56.009351",
   "version": "2.4.0"
  }
 },
 "nbformat": 4,
 "nbformat_minor": 5
}
